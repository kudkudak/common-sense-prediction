{
 "cells": [
  {
   "cell_type": "markdown",
   "metadata": {},
   "source": [
    "# Compare ours and DNN\n",
    "\n",
    "Owner: kudkudak (do not change on github if you are not kudkudak)\n",
    "\n",
    "Compares on subsets converged models:\n",
    "    \n",
    "* MaxSim++\n",
    "* ArgSim\n",
    "* MaxSim\n",
    "* DNN with OMCS embeddings (random and normal split)\n",
    "* DNN with Glove embeddings"
   ]
  },
  {
   "cell_type": "code",
   "execution_count": 2,
   "metadata": {
    "collapsed": true
   },
   "outputs": [],
   "source": [
    "import pandas as pd\n",
    "import os\n",
    "import matplotlib.pylab as plt\n",
    "import json\n",
    "import tqdm\n",
    "import cPickle\n",
    "import numpy as np\n",
    "import seaborn as sns\n",
    "%matplotlib inline"
   ]
  },
  {
   "cell_type": "code",
   "execution_count": 21,
   "metadata": {
    "collapsed": true
   },
   "outputs": [],
   "source": [
    "# This contains codes and data downloaded from http://ttic.uchicago.edu/~kgimpel/commonsense.html\n",
    "ACL_ROOT_PATH = \"/u/jastrzes/l2lwe/ACL_CKBC/\"\n",
    "RESULTS_DIR = \"/data/lisa/exp/jastrzes/l2lwe/results/\" \n",
    "ARGSIM_RESULTS_DIR = os.path.join(RESULTS_DIR, \"ArgSim\")\n",
    "MAXSIM_RESULTS_DIR = os.path.join(RESULTS_DIR, \"MaxSim\")\n",
    "ACL_DNN_CE_RESULTS_DIR = os.path.join(RESULTS_DIR, \"ACL_DNN_CE\")"
   ]
  },
  {
   "cell_type": "code",
   "execution_count": 22,
   "metadata": {
    "collapsed": false
   },
   "outputs": [],
   "source": [
    "import sys\n",
    "sys.path.append(os.path.join(ACL_ROOT_PATH, \"dnn_ce\"))\n",
    "from utils import getWordmap"
   ]
  },
  {
   "cell_type": "code",
   "execution_count": 23,
   "metadata": {
    "collapsed": false
   },
   "outputs": [],
   "source": [
    "train100 = pd.read_csv(os.path.join(ACL_ROOT_PATH, \"commonsendata/Training/new_omcs100.txt\"), sep=\"\\t\", header=None)\n",
    "train = train100\n",
    "test = pd.read_csv(os.path.join(ACL_ROOT_PATH, \"commonsendata/Eval/conceptnet/new_omcs_test.txt\"), sep=\"\\t\", header=None)\n",
    "dev2 = pd.read_csv(os.path.join(ACL_ROOT_PATH, \"commonsendata/Eval/conceptnet/new_omcs_dev2.txt\"), sep=\"\\t\", header=None)\n",
    "dev2.columns = ['rel', 'head', 'tail', 'score']\n",
    "train100.columns = ['rel', 'head', 'tail', 'score']\n",
    "test.columns = ['rel', 'head', 'tail', 'score']"
   ]
  },
  {
   "cell_type": "code",
   "execution_count": 24,
   "metadata": {
    "collapsed": false
   },
   "outputs": [
    {
     "data": {
      "text/html": [
       "<div>\n",
       "<style>\n",
       "    .dataframe thead tr:only-child th {\n",
       "        text-align: right;\n",
       "    }\n",
       "\n",
       "    .dataframe thead th {\n",
       "        text-align: left;\n",
       "    }\n",
       "\n",
       "    .dataframe tbody tr th {\n",
       "        vertical-align: top;\n",
       "    }\n",
       "</style>\n",
       "<table border=\"1\" class=\"dataframe\">\n",
       "  <thead>\n",
       "    <tr style=\"text-align: right;\">\n",
       "      <th></th>\n",
       "      <th>rel</th>\n",
       "      <th>head</th>\n",
       "      <th>tail</th>\n",
       "      <th>score</th>\n",
       "    </tr>\n",
       "  </thead>\n",
       "  <tbody>\n",
       "    <tr>\n",
       "      <th>1195</th>\n",
       "      <td>HasPrerequisite</td>\n",
       "      <td>go jog</td>\n",
       "      <td>person</td>\n",
       "      <td>0</td>\n",
       "    </tr>\n",
       "    <tr>\n",
       "      <th>1196</th>\n",
       "      <td>HasPrerequisite</td>\n",
       "      <td>wall</td>\n",
       "      <td>build</td>\n",
       "      <td>0</td>\n",
       "    </tr>\n",
       "    <tr>\n",
       "      <th>1197</th>\n",
       "      <td>HasPrerequisite</td>\n",
       "      <td>carpet</td>\n",
       "      <td>go to school</td>\n",
       "      <td>0</td>\n",
       "    </tr>\n",
       "    <tr>\n",
       "      <th>1198</th>\n",
       "      <td>CapableOf</td>\n",
       "      <td>light match</td>\n",
       "      <td>start fire</td>\n",
       "      <td>0</td>\n",
       "    </tr>\n",
       "    <tr>\n",
       "      <th>1199</th>\n",
       "      <td>CapableOf</td>\n",
       "      <td>beer</td>\n",
       "      <td>cry loudly</td>\n",
       "      <td>0</td>\n",
       "    </tr>\n",
       "  </tbody>\n",
       "</table>\n",
       "</div>"
      ],
      "text/plain": [
       "                  rel         head          tail  score\n",
       "1195  HasPrerequisite       go jog        person      0\n",
       "1196  HasPrerequisite         wall         build      0\n",
       "1197  HasPrerequisite       carpet  go to school      0\n",
       "1198        CapableOf  light match    start fire      0\n",
       "1199        CapableOf         beer    cry loudly      0"
      ]
     },
     "execution_count": 24,
     "metadata": {},
     "output_type": "execute_result"
    }
   ],
   "source": [
    "dev2.tail()"
   ]
  },
  {
   "cell_type": "code",
   "execution_count": 25,
   "metadata": {
    "collapsed": false
   },
   "outputs": [
    {
     "data": {
      "text/html": [
       "<div>\n",
       "<style>\n",
       "    .dataframe thead tr:only-child th {\n",
       "        text-align: right;\n",
       "    }\n",
       "\n",
       "    .dataframe thead th {\n",
       "        text-align: left;\n",
       "    }\n",
       "\n",
       "    .dataframe tbody tr th {\n",
       "        vertical-align: top;\n",
       "    }\n",
       "</style>\n",
       "<table border=\"1\" class=\"dataframe\">\n",
       "  <thead>\n",
       "    <tr style=\"text-align: right;\">\n",
       "      <th></th>\n",
       "      <th>rel</th>\n",
       "      <th>head</th>\n",
       "      <th>tail</th>\n",
       "      <th>score</th>\n",
       "    </tr>\n",
       "  </thead>\n",
       "  <tbody>\n",
       "    <tr>\n",
       "      <th>0</th>\n",
       "      <td>ReceivesAction</td>\n",
       "      <td>hockey</td>\n",
       "      <td>play on ice</td>\n",
       "      <td>3.459432</td>\n",
       "    </tr>\n",
       "    <tr>\n",
       "      <th>1</th>\n",
       "      <td>AtLocation</td>\n",
       "      <td>restroom</td>\n",
       "      <td>rest area</td>\n",
       "      <td>3.459432</td>\n",
       "    </tr>\n",
       "    <tr>\n",
       "      <th>2</th>\n",
       "      <td>HasPrerequisite</td>\n",
       "      <td>eat breakfast</td>\n",
       "      <td>make breakfast</td>\n",
       "      <td>3.459432</td>\n",
       "    </tr>\n",
       "    <tr>\n",
       "      <th>3</th>\n",
       "      <td>AtLocation</td>\n",
       "      <td>book</td>\n",
       "      <td>table</td>\n",
       "      <td>3.459432</td>\n",
       "    </tr>\n",
       "    <tr>\n",
       "      <th>4</th>\n",
       "      <td>AtLocation</td>\n",
       "      <td>dust</td>\n",
       "      <td>refrigerator</td>\n",
       "      <td>3.459432</td>\n",
       "    </tr>\n",
       "  </tbody>\n",
       "</table>\n",
       "</div>"
      ],
      "text/plain": [
       "               rel           head            tail     score\n",
       "0   ReceivesAction         hockey     play on ice  3.459432\n",
       "1       AtLocation       restroom       rest area  3.459432\n",
       "2  HasPrerequisite  eat breakfast  make breakfast  3.459432\n",
       "3       AtLocation           book           table  3.459432\n",
       "4       AtLocation           dust    refrigerator  3.459432"
      ]
     },
     "execution_count": 25,
     "metadata": {},
     "output_type": "execute_result"
    }
   ],
   "source": [
    "train100.head()"
   ]
  },
  {
   "cell_type": "code",
   "execution_count": 29,
   "metadata": {
    "collapsed": false
   },
   "outputs": [],
   "source": [
    "def parse_results(run_name, df=test, split=\"test\"):\n",
    "    df = df.copy() # We will modify it\n",
    "    eval_results = json.load(open(run_name + \".json\"))\n",
    "    preds = np.array(eval_results['scores_' + str(split)]) >= eval_results['threshold']\n",
    "    if len(preds) == len(df) + 2:\n",
    "        # Last two are manually aded. Original code is really messy...\n",
    "        preds = preds[:-2]   \n",
    "    df['pred'] = preds\n",
    "    df['correct'] = df['pred'] == df['score']\n",
    "    print \"Mean acc\", df['correct'].mean()\n",
    "    a1 = df.groupby(\"rel\").count()['correct']\n",
    "    a2 = df.groupby(\"rel\").mean()['correct'].to_frame()\n",
    "    a2['cnt'] = a1\n",
    "    print a2.sort_values(\"correct\")\n",
    "    return a2, eval_results"
   ]
  },
  {
   "cell_type": "code",
   "execution_count": 27,
   "metadata": {
    "collapsed": true
   },
   "outputs": [],
   "source": [
    "# Get few runs\n",
    "\n",
    "## DNN+CE\n",
    "random_split = os.path.join(ACL_DNN_CE_RESULTS_DIR, \"random_DNN_CEtrainSize100dSize200relSize200\\\n",
    "actirectify.Epoch30.Frac1.0.Actrectify.Batch400.LC5e-05.eta0.005relSize200\")\n",
    "\n",
    "normal_split = os.path.join(ACL_DNN_CE_RESULTS_DIR,\"normal_DNN_CEtrainSize100dSize200relSize200actirectify.Epoch30.Frac1.0\\\n",
    ".Actrectify.Batch400.LC5e-05.eta0.005relSize200\")\n",
    "\n",
    "normal_split_glove = os.path.join(ACL_DNN_CE_RESULTS_DIR,\"commonsendata_embeddings_glove200_norm.txt_DNN_CEtrainSize100dSize200relSize200actirectify.Epoch30.Frac1.0\\\n",
    ".Actrectify.Batch400.LC5e-05.eta0.005relSize200\")"
   ]
  },
  {
   "cell_type": "markdown",
   "metadata": {},
   "source": [
    "## Print ACL model preds normal vs random split"
   ]
  },
  {
   "cell_type": "code",
   "execution_count": 30,
   "metadata": {
    "collapsed": false
   },
   "outputs": [
    {
     "name": "stdout",
     "output_type": "stream",
     "text": [
      "Mean acc 0.842083333333\n",
      "                   correct  cnt\n",
      "rel                            \n",
      "CausesDesire      0.666667    6\n",
      "RelatedTo         0.666667    3\n",
      "NotHasProperty    0.750000    4\n",
      "Causes            0.784946   93\n",
      "CreatedBy         0.800000    5\n",
      "NotCapableOf      0.800000   20\n",
      "MotivatedByGoal   0.800000   15\n",
      "PartOf            0.807692   52\n",
      "ReceivesAction    0.818182   22\n",
      "CapableOf         0.821429  280\n",
      "MadeOf            0.821429   28\n",
      "HasPrerequisite   0.823009  226\n",
      "AtLocation        0.828810  479\n",
      "HasA              0.857143   98\n",
      "HasSubevent       0.858824  170\n",
      "HasProperty       0.860140  143\n",
      "IsA               0.863636  396\n",
      "UsedFor           0.873156  339\n",
      "Desires           0.941176   17\n",
      "HasFirstSubevent  1.000000    1\n",
      "NotIsA            1.000000    1\n",
      "DefinedAs         1.000000    2\n"
     ]
    }
   ],
   "source": [
    "random_split_tst, random_split_eval = parse_results(random_split + \".txt_eval\")"
   ]
  },
  {
   "cell_type": "code",
   "execution_count": 31,
   "metadata": {
    "collapsed": false
   },
   "outputs": [
    {
     "name": "stdout",
     "output_type": "stream",
     "text": [
      "Mean acc 0.913333333333\n",
      "                   correct  cnt\n",
      "rel                            \n",
      "RelatedTo         0.666667    3\n",
      "NotHasProperty    0.750000    4\n",
      "CreatedBy         0.800000    5\n",
      "NotCapableOf      0.800000   20\n",
      "ReceivesAction    0.863636   22\n",
      "Desires           0.882353   17\n",
      "PartOf            0.884615   52\n",
      "CapableOf         0.896429  280\n",
      "HasA              0.897959   98\n",
      "HasSubevent       0.905882  170\n",
      "AtLocation        0.906054  479\n",
      "Causes            0.913978   93\n",
      "HasPrerequisite   0.915929  226\n",
      "HasProperty       0.916084  143\n",
      "IsA               0.926768  396\n",
      "MotivatedByGoal   0.933333   15\n",
      "UsedFor           0.941003  339\n",
      "MadeOf            0.964286   28\n",
      "HasFirstSubevent  1.000000    1\n",
      "NotIsA            1.000000    1\n",
      "DefinedAs         1.000000    2\n",
      "CausesDesire      1.000000    6\n"
     ]
    }
   ],
   "source": [
    "normal_split_tst, normal_split_eval = parse_results(normal_split + \".txt_eval\")"
   ]
  },
  {
   "cell_type": "code",
   "execution_count": 32,
   "metadata": {
    "collapsed": false
   },
   "outputs": [
    {
     "name": "stdout",
     "output_type": "stream",
     "text": [
      "Mean acc 0.83875\n",
      "                   correct  cnt\n",
      "rel                            \n",
      "CreatedBy         0.400000    5\n",
      "PartOf            0.692308   52\n",
      "ReceivesAction    0.727273   22\n",
      "NotHasProperty    0.750000    4\n",
      "Desires           0.764706   17\n",
      "CapableOf         0.796429  280\n",
      "Causes            0.817204   93\n",
      "AtLocation        0.820459  479\n",
      "MadeOf            0.821429   28\n",
      "HasPrerequisite   0.836283  226\n",
      "IsA               0.851010  396\n",
      "UsedFor           0.852507  339\n",
      "HasA              0.877551   98\n",
      "NotCapableOf      0.900000   20\n",
      "HasSubevent       0.900000  170\n",
      "HasProperty       0.902098  143\n",
      "MotivatedByGoal   0.933333   15\n",
      "RelatedTo         1.000000    3\n",
      "HasFirstSubevent  1.000000    1\n",
      "NotIsA            1.000000    1\n",
      "DefinedAs         1.000000    2\n",
      "CausesDesire      1.000000    6\n"
     ]
    }
   ],
   "source": [
    "normal_split_glove_tst, normal_split_glove_eval = parse_results(normal_split_glove + \".txt_eval\")"
   ]
  },
  {
   "cell_type": "markdown",
   "metadata": {},
   "source": [
    "## Load MaxSim on different embeddings\n",
    "\n",
    "81.3% for OMCS (no using rel!), 80.3% for Glove (no using rel!)"
   ]
  },
  {
   "cell_type": "code",
   "execution_count": 33,
   "metadata": {
    "collapsed": false
   },
   "outputs": [
    {
     "name": "stdout",
     "output_type": "stream",
     "text": [
      "Mean acc 0.803333333333\n",
      "                   correct  cnt\n",
      "rel                            \n",
      "NotIsA            0.000000    1\n",
      "HasFirstSubevent  0.000000    1\n",
      "CausesDesire      0.333333    6\n",
      "HasPrerequisite   0.606195  226\n",
      "HasSubevent       0.700000  170\n",
      "MotivatedByGoal   0.733333   15\n",
      "Causes            0.763441   93\n",
      "CapableOf         0.767857  280\n",
      "NotCapableOf      0.800000   20\n",
      "ReceivesAction    0.818182   22\n",
      "UsedFor           0.820059  339\n",
      "Desires           0.823529   17\n",
      "HasProperty       0.839161  143\n",
      "AtLocation        0.845511  479\n",
      "PartOf            0.865385   52\n",
      "HasA              0.877551   98\n",
      "IsA               0.886364  396\n",
      "MadeOf            0.928571   28\n",
      "RelatedTo         1.000000    3\n",
      "NotHasProperty    1.000000    4\n",
      "DefinedAs         1.000000    2\n",
      "CreatedBy         1.000000    5\n",
      "Mean acc 0.813333333333\n",
      "                   correct  cnt\n",
      "rel                            \n",
      "HasFirstSubevent  0.000000    1\n",
      "CausesDesire      0.500000    6\n",
      "HasPrerequisite   0.632743  226\n",
      "HasSubevent       0.729412  170\n",
      "MotivatedByGoal   0.733333   15\n",
      "NotHasProperty    0.750000    4\n",
      "Causes            0.795699   93\n",
      "CreatedBy         0.800000    5\n",
      "NotCapableOf      0.800000   20\n",
      "CapableOf         0.810714  280\n",
      "AtLocation        0.814196  479\n",
      "UsedFor           0.840708  339\n",
      "MadeOf            0.857143   28\n",
      "IsA               0.868687  396\n",
      "Desires           0.882353   17\n",
      "HasA              0.887755   98\n",
      "HasProperty       0.895105  143\n",
      "PartOf            0.903846   52\n",
      "ReceivesAction    0.954545   22\n",
      "DefinedAs         1.000000    2\n",
      "NotIsA            1.000000    1\n",
      "RelatedTo         1.000000    3\n"
     ]
    }
   ],
   "source": [
    "maxsim_OMCS = os.path.join(MAXSIM_RESULTS_DIR,\"maxsim_OMCS\")\n",
    "maxsim_glove = os.path.join(MAXSIM_RESULTS_DIR, \"maxsim_glove\")\n",
    "\n",
    "\n",
    "maxsim_glove_tst, maxsim_glove_eval = parse_results(maxsim_glove)\n",
    "maxsim_OMCS_tst, maxsim_OMCS_eval = parse_results(maxsim_OMCS)\n",
    "\n",
    "maxsim_OMCS_tst.columns = ['correct OMCS', 'cnt OMCS']\n",
    "maxsim_glove_tst.columns = ['correct glove', 'cnt glove']"
   ]
  },
  {
   "cell_type": "markdown",
   "metadata": {},
   "source": [
    "## Side by side comparison"
   ]
  },
  {
   "cell_type": "code",
   "execution_count": 34,
   "metadata": {
    "collapsed": true
   },
   "outputs": [],
   "source": [
    "def featurize(embedding_path):\n",
    "    \"\"\"\n",
    "    Featurizes train and dev2 (from global namespace) and returns them to you.\n",
    "    \n",
    "    Params\n",
    "    ------\n",
    "    embedding_path: str\n",
    "        Path to embeddings to use (Glove format, also used by ACL paper)\n",
    "    \"\"\"\n",
    "    \n",
    "    print(\"Reading\")\n",
    "    \n",
    "    if embedding_path.endswith(\"txt\"):\n",
    "        print(\"Guessing it is MaxSim model\")\n",
    "        (words, We) = getWordmap(embedding_path)\n",
    "        V_rel = list(set(test['rel'].values)) + ['random']\n",
    "        We_rel = {v: np.random.uniform(-0.1, 0.1, size=We[0].shape) for v in V_rel}\n",
    "        for v in We_rel:\n",
    "            We_rel[v] = We_rel[v]/np.linalg.norm(We_rel[v]) * np.linalg.norm(We[0])\n",
    "        \n",
    "        def featurize_triplet(v):\n",
    "             return np.concatenate([np.array([We[words.get(w,0)] for w in v[1].split()]).mean(axis=0), \n",
    "                                   We_rel.get(v[0], We_rel['random']).reshape(1, -1),\n",
    "                                   np.array([We[words.get(w,0)] for w in v[2].split()]).mean(axis=0)]).reshape(-1,)\n",
    "    elif embedding_path.endswith(\"pickle\"):\n",
    "        print(\"Guessing it is from DNN\")\n",
    "        (words, We) = getWordmap('../ACL_CKBC/commonsendata/embeddings.txt')\n",
    "        z = cPickle.load(open(embedding_path))\n",
    "        rel_list = list(open(\"../ACL_CKBC/commonsendata/Training/rel.txt\").read().split(\"\\n\"))\n",
    "        We = z['embeddings'] \n",
    "        \n",
    "        V_rel = rel_list\n",
    "        We_rel = {v: z['rel'][rel_list.index(v.lower())] for v in V_rel}\n",
    "        for v in We_rel:\n",
    "            We_rel[v] = We_rel[v]/np.linalg.norm(We_rel[v]) * np.linalg.norm(We[0])\n",
    "        \n",
    "        def featurize_triplet(v):\n",
    "             return np.concatenate([np.array([We[words.get(w,0)] for w in v[1].split()]).mean(axis=0, keepdims=True), \n",
    "                                   We_rel.get(v[0].lower(),None).reshape(1, -1),\n",
    "                                   np.array([We[words.get(w,0)] for w in v[2].split()]).mean(axis=0, keepdims=True)], axis=1).reshape(-1,)\n",
    "\n",
    "    \n",
    "    We = We / (1e-4 + np.linalg.norm(We, axis=1, keepdims=True))\n",
    "\n",
    "\n",
    "    def featurize_df(df):\n",
    "        feat = np.zeros(shape=(len(df), 3*We.shape[1]))\n",
    "        for row_id, row in tqdm.tqdm(enumerate(df.values), total=len(df)):\n",
    "            feat[row_id] = featurize_triplet(row)\n",
    "        return feat\n",
    "\n",
    "    train_feat = featurize_df(train)\n",
    "    dev2_feat = featurize_df(dev2)\n",
    "\n",
    "    return {\"train_feat\": train_feat,\"dev2_feat\": dev2_feat}"
   ]
  },
  {
   "cell_type": "code",
   "execution_count": 23,
   "metadata": {
    "collapsed": false
   },
   "outputs": [
    {
     "name": "stdout",
     "output_type": "stream",
     "text": [
      "Reading\n",
      "Guessing it is MaxSim model\n"
     ]
    },
    {
     "name": "stderr",
     "output_type": "stream",
     "text": [
      "100%|██████████| 100000/100000 [00:06<00:00, 15293.14it/s]\n",
      "100%|██████████| 1200/1200 [00:00<00:00, 17701.22it/s]\n"
     ]
    }
   ],
   "source": [
    "# Featurize datasets, will be useful.\n",
    "\n",
    "## Glove embeddings I constructed in separate script\n",
    "## These embeddings *are not* shipped with the ACL code\n",
    "maxsim_glove_feat = featurize(os.path.join(ACL_ROOT_PATH, \"commonsendata/embeddings_glove_norm.txt\"))"
   ]
  },
  {
   "cell_type": "code",
   "execution_count": 24,
   "metadata": {
    "collapsed": false
   },
   "outputs": [
    {
     "name": "stdout",
     "output_type": "stream",
     "text": [
      "Reading\n",
      "Guessing it is from DNN\n"
     ]
    },
    {
     "name": "stderr",
     "output_type": "stream",
     "text": [
      "100%|██████████| 100000/100000 [00:03<00:00, 27195.00it/s]\n",
      "100%|██████████| 1200/1200 [00:00<00:00, 31288.32it/s]\n"
     ]
    }
   ],
   "source": [
    "normal_split_glove_feat = featurize(normal_split_glove + \".txt30.pickle\") "
   ]
  },
  {
   "cell_type": "code",
   "execution_count": 25,
   "metadata": {
    "collapsed": false
   },
   "outputs": [
    {
     "name": "stdout",
     "output_type": "stream",
     "text": [
      "Reading\n",
      "Guessing it is MaxSim model\n"
     ]
    },
    {
     "name": "stderr",
     "output_type": "stream",
     "text": [
      "100%|██████████| 100000/100000 [00:06<00:00, 15209.93it/s]\n",
      "100%|██████████| 1200/1200 [00:00<00:00, 17319.25it/s]\n"
     ]
    }
   ],
   "source": [
    "maxsim_glove_feat = featurize(os.path.join(ACL_ROOT_PATH, \"commonsendata/embeddings_glove200_norm.txt\"))"
   ]
  },
  {
   "cell_type": "code",
   "execution_count": 26,
   "metadata": {
    "collapsed": false
   },
   "outputs": [
    {
     "name": "stdout",
     "output_type": "stream",
     "text": [
      "Reading\n",
      "Guessing it is MaxSim model\n"
     ]
    },
    {
     "name": "stderr",
     "output_type": "stream",
     "text": [
      "100%|██████████| 100000/100000 [00:06<00:00, 15453.56it/s]\n",
      "100%|██████████| 1200/1200 [00:00<00:00, 17763.32it/s]\n"
     ]
    },
    {
     "name": "stdout",
     "output_type": "stream",
     "text": [
      "Reading\n",
      "Guessing it is from DNN\n"
     ]
    },
    {
     "name": "stderr",
     "output_type": "stream",
     "text": [
      "100%|██████████| 100000/100000 [00:03<00:00, 26796.29it/s]\n",
      "100%|██████████| 1200/1200 [00:00<00:00, 31456.49it/s]\n"
     ]
    }
   ],
   "source": [
    "## These embeddings *are* shipped with ACL code\n",
    "maxsim_OMCS_feat = featurize(os.path.join(ACL_ROOT_PATH, \"commonsendata/embeddings.txt\"))\n",
    "normal_split_feat = featurize(normal_split + \".txt30.pickle\")"
   ]
  },
  {
   "cell_type": "code",
   "execution_count": 27,
   "metadata": {
    "collapsed": false
   },
   "outputs": [],
   "source": [
    "# All models we have for pairwise comparison\n",
    "MODELS = {\n",
    "    \"maxsim_OMCS\": {\"eval\": maxsim_OMCS_eval, \"feat\": maxsim_OMCS_feat},\n",
    "    \"maxsim_glove\": {\"eval\": maxsim_glove_eval,\"feat\": maxsim_glove_feat},\n",
    "    \"dnn\": {\"eval\": normal_split_eval, \"feat\": normal_split_feat},\n",
    "    \"dnn_glove\": {\"eval\": normal_split_glove_eval, \"feat\": normal_split_glove_feat}\n",
    "}"
   ]
  },
  {
   "cell_type": "code",
   "execution_count": 28,
   "metadata": {
    "collapsed": false
   },
   "outputs": [
    {
     "name": "stderr",
     "output_type": "stream",
     "text": [
      "100%|██████████| 1200/1200 [04:05<00:00,  4.41it/s]\n"
     ]
    }
   ],
   "source": [
    "# Construct dataframe containing all information useful for our analysis\n",
    "# Takes like 3m\n",
    "data = []\n",
    "for id in tqdm.tqdm(range(len(dev2)), total=len(dev2)):  \n",
    "    data.append({\"rel\": dev2['rel'][id], \n",
    "                 \"head\": dev2['head'][id], \n",
    "                 \"tail\": dev2['tail'][id], \n",
    "                 \"weight\": dev2['score'][id]})\n",
    "    for model in MODELS:\n",
    "        dim = MODELS[model]['feat']['dev2_feat'].shape[1]/3\n",
    "        head = MODELS[model]['feat']['dev2_feat'][id, 0:dim]\n",
    "        tail = MODELS[model]['feat']['dev2_feat'][id, -dim:]\n",
    "        data[-1][model + \"_argsim_score\"] = head.dot(tail.T)\n",
    "        data[-1][model + \"_pred\"] = MODELS[model]['eval']['scores_dev2'][id] > MODELS[model]['eval']['threshold']\n",
    "        data[-1][model + \"_score\"] = MODELS[model]['eval']['scores_dev2'][id]\n",
    "        data[-1][model + \"_closest\"] = str(train.values[MODELS[model]['feat']['train_feat']\\\n",
    "            .dot(MODELS[model]['feat']['dev2_feat'][id,:].T).argmax()])\n",
    "data = pd.DataFrame(data)\n",
    "\n",
    "## Few things specific to models we use\n",
    "data['dnn_glove_score_norm'] = (data['dnn_glove_score'] - data['dnn_glove_score'].mean())/ data['dnn_glove_score'].std()\n",
    "data['dnn_score_norm'] = (data['dnn_score'] - data['dnn_score'].mean())/ data['dnn_score'].std()\n",
    "data['maxsim_OMCS_score_norm'] = (data['maxsim_OMCS_score'] - data['maxsim_OMCS_score'].mean())/ data['maxsim_OMCS_score'].std()"
   ]
  },
  {
   "cell_type": "markdown",
   "metadata": {},
   "source": [
    "### Is ArgSim helpful?"
   ]
  },
  {
   "cell_type": "code",
   "execution_count": 37,
   "metadata": {
    "collapsed": false
   },
   "outputs": [
    {
     "data": {
      "text/plain": [
       "<matplotlib.legend.Legend at 0x7fd02c08dd90>"
      ]
     },
     "execution_count": 37,
     "metadata": {},
     "output_type": "execute_result"
    },
    {
     "data": {
      "image/png": "[encoded data removed]",
      "text/plain": [
       "<matplotlib.figure.Figure at 0x7fd02f3cd9d0>"
      ]
     },
     "metadata": {},
     "output_type": "display_data"
    }
   ],
   "source": [
    "f, ax = plt.subplots(1,3)\n",
    "\n",
    "sns.distplot(data.query(\"weight==0\")[\"dnn_argsim_score\"], ax=ax[1], label=\"y=0\")\n",
    "sns.distplot(data.query(\"weight==1\")[\"dnn_argsim_score\"], ax=ax[1], label=\"y=1\")\n",
    "sns.distplot(data.query(\"weight==0\")[\"maxsim_OMCS_argsim_score\"], ax=ax[0], label=\"y=0\")\n",
    "sns.distplot(data.query(\"weight==1\")[\"maxsim_OMCS_argsim_score\"], ax=ax[0], label=\"y=1\")\n",
    "sns.distplot(data.query(\"weight==0\")[\"maxsim_glove_argsim_score\"], ax=ax[2], label=\"y=0\")\n",
    "sns.distplot(data.query(\"weight==1\")[\"maxsim_glove_argsim_score\"], ax=ax[2], label=\"y=1\")\n",
    "\n",
    "plt.legend()"
   ]
  },
  {
   "cell_type": "markdown",
   "metadata": {},
   "source": [
    "### Does DNN use argsim?"
   ]
  },
  {
   "cell_type": "code",
   "execution_count": 38,
   "metadata": {
    "collapsed": false
   },
   "outputs": [
    {
     "data": {
      "text/plain": [
       "<matplotlib.legend.Legend at 0x7fd026f7e150>"
      ]
     },
     "execution_count": 38,
     "metadata": {},
     "output_type": "execute_result"
    },
    {
     "data": {
      "image/png": "[encoded data removed]",
      "text/plain": [
       "<matplotlib.figure.Figure at 0x7fd0270e5150>"
      ]
     },
     "metadata": {},
     "output_type": "display_data"
    }
   ],
   "source": [
    "f, ax = plt.subplots(1,2)\n",
    "sns.distplot(data.query(\"weight==1 and dnn_pred==1 and maxsim_OMCS_pred==0\")[\"dnn_argsim_score\"], ax=ax[1], label=\"y=1. DNN right OMCS nope\")\n",
    "sns.distplot(data.query(\"weight==1 and dnn_pred==0 and maxsim_OMCS_pred==0\")[\"dnn_argsim_score\"], ax=ax[1], label=\"y=1. DNN nope OMCS nope\")\n",
    "sns.distplot(data.query(\"weight==1\")[\"dnn_argsim_score\"], ax=ax[1], label=\"y=1\")\n",
    "\n",
    "sns.distplot(data.query(\"weight==1 and dnn_pred==1 and maxsim_OMCS_pred==0\")[\"maxsim_OMCS_argsim_score\"], ax=ax[0], label=\"y=1. DNN right OMCS nope\")\n",
    "sns.distplot(data.query(\"weight==1 and dnn_pred==0 and maxsim_OMCS_pred==0\")[\"maxsim_OMCS_argsim_score\"], ax=ax[0], label=\"y=1. DNN nope OMCS nope\")\n",
    "sns.distplot(data.query(\"weight==1\")[\"maxsim_OMCS_argsim_score\"], ax=ax[0], label=\"y=1\")\n",
    "\n",
    "plt.legend()"
   ]
  },
  {
   "cell_type": "markdown",
   "metadata": {},
   "source": [
    "### Is it true models are differentially good for different relations?"
   ]
  },
  {
   "cell_type": "code",
   "execution_count": 39,
   "metadata": {
    "collapsed": true
   },
   "outputs": [],
   "source": [
    "from sklearn.linear_model import LogisticRegressionCV"
   ]
  },
  {
   "cell_type": "code",
   "execution_count": 40,
   "metadata": {
    "collapsed": false
   },
   "outputs": [
    {
     "name": "stderr",
     "output_type": "stream",
     "text": [
      "/u/jastrzes/.local/lib/python2.7/site-packages/sklearn/utils/validation.py:526: DataConversionWarning: A column-vector y was passed when a 1d array was expected. Please change the shape of y to (n_samples, ), for example using ravel().\n",
      "  y = column_or_1d(y, warn=True)\n"
     ]
    }
   ],
   "source": [
    "data['maxsim_OMCS_closest_rel_agree'] = [ data['rel'][id] in data['maxsim_OMCS_closest'].iloc[id] for id in range(len(data))]\n",
    "\n",
    "data['maxsim_OMCS_correct']= data['maxsim_OMCS_pred'] ==data['weight']\n",
    "\n",
    "data['argsim_correct'] = LogisticRegressionCV().fit(data['maxsim_OMCS_argsim_score'].values.reshape(-1,1), data['weight'].values.reshape(-1,1)).predict(data['maxsim_OMCS_argsim_score'].values.reshape(-1,1)) == data['weight']\n",
    "\n",
    "data['dnn_correct']= data['dnn_pred'] ==data['weight']"
   ]
  },
  {
   "cell_type": "code",
   "execution_count": 41,
   "metadata": {
    "collapsed": false
   },
   "outputs": [
    {
     "data": {
      "text/html": [
       "<div>\n",
       "<style>\n",
       "    .dataframe thead tr:only-child th {\n",
       "        text-align: right;\n",
       "    }\n",
       "\n",
       "    .dataframe thead th {\n",
       "        text-align: left;\n",
       "    }\n",
       "\n",
       "    .dataframe tbody tr th {\n",
       "        vertical-align: top;\n",
       "    }\n",
       "</style>\n",
       "<table border=\"1\" class=\"dataframe\">\n",
       "  <thead>\n",
       "    <tr style=\"text-align: right;\">\n",
       "      <th></th>\n",
       "      <th>argsim_correct</th>\n",
       "      <th>maxsim_OMCS_correct</th>\n",
       "      <th>dnn_correct</th>\n",
       "      <th>maxsim_OMCS_closest_rel_agree</th>\n",
       "    </tr>\n",
       "    <tr>\n",
       "      <th>rel</th>\n",
       "      <th></th>\n",
       "      <th></th>\n",
       "      <th></th>\n",
       "      <th></th>\n",
       "    </tr>\n",
       "  </thead>\n",
       "  <tbody>\n",
       "    <tr>\n",
       "      <th>AtLocation</th>\n",
       "      <td>0.762712</td>\n",
       "      <td>0.841808</td>\n",
       "      <td>0.943503</td>\n",
       "      <td>0.627119</td>\n",
       "    </tr>\n",
       "    <tr>\n",
       "      <th>CapableOf</th>\n",
       "      <td>0.622517</td>\n",
       "      <td>0.814570</td>\n",
       "      <td>0.860927</td>\n",
       "      <td>0.364238</td>\n",
       "    </tr>\n",
       "    <tr>\n",
       "      <th>Causes</th>\n",
       "      <td>0.673077</td>\n",
       "      <td>0.673077</td>\n",
       "      <td>0.942308</td>\n",
       "      <td>0.307692</td>\n",
       "    </tr>\n",
       "    <tr>\n",
       "      <th>CausesDesire</th>\n",
       "      <td>0.727273</td>\n",
       "      <td>0.727273</td>\n",
       "      <td>0.772727</td>\n",
       "      <td>0.363636</td>\n",
       "    </tr>\n",
       "    <tr>\n",
       "      <th>CreatedBy</th>\n",
       "      <td>1.000000</td>\n",
       "      <td>1.000000</td>\n",
       "      <td>1.000000</td>\n",
       "      <td>0.000000</td>\n",
       "    </tr>\n",
       "    <tr>\n",
       "      <th>DefinedAs</th>\n",
       "      <td>0.750000</td>\n",
       "      <td>0.750000</td>\n",
       "      <td>1.000000</td>\n",
       "      <td>0.250000</td>\n",
       "    </tr>\n",
       "    <tr>\n",
       "      <th>Desires</th>\n",
       "      <td>0.500000</td>\n",
       "      <td>0.875000</td>\n",
       "      <td>0.833333</td>\n",
       "      <td>0.291667</td>\n",
       "    </tr>\n",
       "    <tr>\n",
       "      <th>HasA</th>\n",
       "      <td>0.735294</td>\n",
       "      <td>0.882353</td>\n",
       "      <td>0.882353</td>\n",
       "      <td>0.323529</td>\n",
       "    </tr>\n",
       "    <tr>\n",
       "      <th>HasFirstSubevent</th>\n",
       "      <td>1.000000</td>\n",
       "      <td>1.000000</td>\n",
       "      <td>1.000000</td>\n",
       "      <td>0.000000</td>\n",
       "    </tr>\n",
       "    <tr>\n",
       "      <th>HasLastSubevent</th>\n",
       "      <td>1.000000</td>\n",
       "      <td>0.250000</td>\n",
       "      <td>0.750000</td>\n",
       "      <td>0.000000</td>\n",
       "    </tr>\n",
       "    <tr>\n",
       "      <th>HasPrerequisite</th>\n",
       "      <td>0.702703</td>\n",
       "      <td>0.567568</td>\n",
       "      <td>0.936937</td>\n",
       "      <td>0.315315</td>\n",
       "    </tr>\n",
       "    <tr>\n",
       "      <th>HasProperty</th>\n",
       "      <td>0.659091</td>\n",
       "      <td>0.897727</td>\n",
       "      <td>0.920455</td>\n",
       "      <td>0.545455</td>\n",
       "    </tr>\n",
       "    <tr>\n",
       "      <th>HasSubevent</th>\n",
       "      <td>0.691489</td>\n",
       "      <td>0.787234</td>\n",
       "      <td>0.914894</td>\n",
       "      <td>0.127660</td>\n",
       "    </tr>\n",
       "    <tr>\n",
       "      <th>IsA</th>\n",
       "      <td>0.754902</td>\n",
       "      <td>0.857843</td>\n",
       "      <td>0.906863</td>\n",
       "      <td>0.475490</td>\n",
       "    </tr>\n",
       "    <tr>\n",
       "      <th>MadeOf</th>\n",
       "      <td>0.750000</td>\n",
       "      <td>0.833333</td>\n",
       "      <td>1.000000</td>\n",
       "      <td>0.250000</td>\n",
       "    </tr>\n",
       "    <tr>\n",
       "      <th>MotivatedByGoal</th>\n",
       "      <td>0.681818</td>\n",
       "      <td>0.772727</td>\n",
       "      <td>0.954545</td>\n",
       "      <td>0.181818</td>\n",
       "    </tr>\n",
       "    <tr>\n",
       "      <th>NotCapableOf</th>\n",
       "      <td>1.000000</td>\n",
       "      <td>1.000000</td>\n",
       "      <td>1.000000</td>\n",
       "      <td>0.000000</td>\n",
       "    </tr>\n",
       "    <tr>\n",
       "      <th>NotDesires</th>\n",
       "      <td>0.400000</td>\n",
       "      <td>1.000000</td>\n",
       "      <td>0.400000</td>\n",
       "      <td>0.400000</td>\n",
       "    </tr>\n",
       "    <tr>\n",
       "      <th>NotHasProperty</th>\n",
       "      <td>0.500000</td>\n",
       "      <td>0.500000</td>\n",
       "      <td>1.000000</td>\n",
       "      <td>0.500000</td>\n",
       "    </tr>\n",
       "    <tr>\n",
       "      <th>NotIsA</th>\n",
       "      <td>0.500000</td>\n",
       "      <td>1.000000</td>\n",
       "      <td>1.000000</td>\n",
       "      <td>0.000000</td>\n",
       "    </tr>\n",
       "    <tr>\n",
       "      <th>PartOf</th>\n",
       "      <td>0.833333</td>\n",
       "      <td>1.000000</td>\n",
       "      <td>1.000000</td>\n",
       "      <td>0.000000</td>\n",
       "    </tr>\n",
       "    <tr>\n",
       "      <th>ReceivesAction</th>\n",
       "      <td>0.571429</td>\n",
       "      <td>0.857143</td>\n",
       "      <td>0.928571</td>\n",
       "      <td>0.214286</td>\n",
       "    </tr>\n",
       "    <tr>\n",
       "      <th>SymbolOf</th>\n",
       "      <td>0.400000</td>\n",
       "      <td>0.600000</td>\n",
       "      <td>0.600000</td>\n",
       "      <td>0.000000</td>\n",
       "    </tr>\n",
       "    <tr>\n",
       "      <th>UsedFor</th>\n",
       "      <td>0.754839</td>\n",
       "      <td>0.838710</td>\n",
       "      <td>0.929032</td>\n",
       "      <td>0.451613</td>\n",
       "    </tr>\n",
       "  </tbody>\n",
       "</table>\n",
       "</div>"
      ],
      "text/plain": [
       "                  argsim_correct  maxsim_OMCS_correct  dnn_correct  \\\n",
       "rel                                                                  \n",
       "AtLocation              0.762712             0.841808     0.943503   \n",
       "CapableOf               0.622517             0.814570     0.860927   \n",
       "Causes                  0.673077             0.673077     0.942308   \n",
       "CausesDesire            0.727273             0.727273     0.772727   \n",
       "CreatedBy               1.000000             1.000000     1.000000   \n",
       "DefinedAs               0.750000             0.750000     1.000000   \n",
       "Desires                 0.500000             0.875000     0.833333   \n",
       "HasA                    0.735294             0.882353     0.882353   \n",
       "HasFirstSubevent        1.000000             1.000000     1.000000   \n",
       "HasLastSubevent         1.000000             0.250000     0.750000   \n",
       "HasPrerequisite         0.702703             0.567568     0.936937   \n",
       "HasProperty             0.659091             0.897727     0.920455   \n",
       "HasSubevent             0.691489             0.787234     0.914894   \n",
       "IsA                     0.754902             0.857843     0.906863   \n",
       "MadeOf                  0.750000             0.833333     1.000000   \n",
       "MotivatedByGoal         0.681818             0.772727     0.954545   \n",
       "NotCapableOf            1.000000             1.000000     1.000000   \n",
       "NotDesires              0.400000             1.000000     0.400000   \n",
       "NotHasProperty          0.500000             0.500000     1.000000   \n",
       "NotIsA                  0.500000             1.000000     1.000000   \n",
       "PartOf                  0.833333             1.000000     1.000000   \n",
       "ReceivesAction          0.571429             0.857143     0.928571   \n",
       "SymbolOf                0.400000             0.600000     0.600000   \n",
       "UsedFor                 0.754839             0.838710     0.929032   \n",
       "\n",
       "                  maxsim_OMCS_closest_rel_agree  \n",
       "rel                                              \n",
       "AtLocation                             0.627119  \n",
       "CapableOf                              0.364238  \n",
       "Causes                                 0.307692  \n",
       "CausesDesire                           0.363636  \n",
       "CreatedBy                              0.000000  \n",
       "DefinedAs                              0.250000  \n",
       "Desires                                0.291667  \n",
       "HasA                                   0.323529  \n",
       "HasFirstSubevent                       0.000000  \n",
       "HasLastSubevent                        0.000000  \n",
       "HasPrerequisite                        0.315315  \n",
       "HasProperty                            0.545455  \n",
       "HasSubevent                            0.127660  \n",
       "IsA                                    0.475490  \n",
       "MadeOf                                 0.250000  \n",
       "MotivatedByGoal                        0.181818  \n",
       "NotCapableOf                           0.000000  \n",
       "NotDesires                             0.400000  \n",
       "NotHasProperty                         0.500000  \n",
       "NotIsA                                 0.000000  \n",
       "PartOf                                 0.000000  \n",
       "ReceivesAction                         0.214286  \n",
       "SymbolOf                               0.000000  \n",
       "UsedFor                                0.451613  "
      ]
     },
     "execution_count": 41,
     "metadata": {},
     "output_type": "execute_result"
    }
   ],
   "source": [
    "data.groupby(\"rel\").mean()[['argsim_correct','maxsim_OMCS_correct', \\\n",
    "    'dnn_correct', 'maxsim_OMCS_closest_rel_agree']]"
   ]
  },
  {
   "cell_type": "markdown",
   "metadata": {},
   "source": [
    "### topK analysis\n",
    "\n",
    "Anything to get from top misclassifications?"
   ]
  },
  {
   "cell_type": "code",
   "execution_count": 42,
   "metadata": {
    "collapsed": false,
    "scrolled": false
   },
   "outputs": [
    {
     "name": "stdout",
     "output_type": "stream",
     "text": [
      "['dnn_closest', 'maxsim_OMCS_closest', 'maxsim_glove_closest', 'head', 'rel', 'tail', 'weight', 'dnn_glove_score', 'dnn_score_norm', 'maxsim_OMCS_score_norm']\n",
      "top10bestDNN_pos\n",
      "=====\n",
      "[\"['HasProperty' 'end of see' 'straight' 1.5849625007211563]\"\n",
      " \"['HasProperty' 'end of see' 'straight' 1.5849625007211563]\"\n",
      " \"['HasProperty' 'end of see' 'straight' 1.5849625007211563]\"\n",
      " 'short distance between two point' 'IsA' 'straight line' 1\n",
      " 0.45215597413837061 0.56627895765421155 -1.9117544938176758]\n",
      "[\"['AtLocation' 'something' 'someone' 2.0]\"\n",
      " \"['CapableOf' 'someone' 'hug someone' 2.3219280948873617]\"\n",
      " \"['AtLocation' 'something' 'someone' 2.0]\" 'agree with someone'\n",
      " 'HasSubevent' 'someone nod' 1 0.67686902475545985 1.2127867836243633\n",
      " -1.2908345900466116]\n",
      "[\"['HasSubevent' 'agree with someone' 'nod your head' 3.1699250014423126]\"\n",
      " \"['HasSubevent' 'agree with someone' 'nod your head' 3.1699250014423126]\"\n",
      " \"['CapableOf' 'someone' 'give head' 2.807354922057604]\"\n",
      " 'agree with someone' 'HasSubevent' 'nod of head' 1 0.59261769407207454\n",
      " 1.1969506858832033 -1.3113843056728134]\n",
      "[\"['HasA' 'bicycle' 'brake' 1.5849625007211563]\"\n",
      " \"['HasA' 'bicycle' 'brake' 1.5849625007211563]\"\n",
      " \"['HasSubevent' 'stop your bicycle' 'use your brake' 2.5849625007211556]\"\n",
      " 'stop your bicycle' 'HasPrerequisite' 'use your brake' 1\n",
      " 0.7188010036174135 1.3546978228338877 -1.1586931263490095]\n",
      "[\"['AtLocation' 'film' 'movie' 2.3219280948873617]\"\n",
      " \"['AtLocation' 'film' 'movie' 2.3219280948873617]\"\n",
      " \"['HasPrerequisite' 'go to movie' 'go' 2.0]\" 'go to film'\n",
      " 'HasPrerequisite' 'go to movie theater' 1 0.63174378761133265\n",
      " 1.3067170770408594 -1.2117718684964363]\n",
      "[\"['HasSubevent' 'stop your car' 'brake' 3.4594316186372978]\"\n",
      " \"['HasSubevent' 'stop your car' 'brake' 3.4594316186372978]\"\n",
      " \"['Causes' 'stop your car' 'step on brake' 2.3219280948873617]\"\n",
      " 'stop your car' 'HasPrerequisite' 'step on brake' 1 0.66210349195271578\n",
      " 1.3451782859696293 -1.18168428788701]\n",
      "[\"['AtLocation' 'music' 'cd' 1.5849625007211563]\"\n",
      " \"['AtLocation' 'music' 'cd' 1.5849625007211563]\"\n",
      " \"['AtLocation' 'music' 'cd' 1.5849625007211563]\" 'listen to music'\n",
      " 'HasPrerequisite' 'play cd' 1 0.45381375003456254 1.3542026695218179\n",
      " -1.1851460084985663]\n",
      "[\"['HasPrerequisite' 'host' 'plan' 2.0]\"\n",
      " \"['HasPrerequisite' 'host' 'plan' 2.0]\"\n",
      " \"['HasPrerequisite' 'host' 'plan' 2.0]\" 'host' 'CapableOf'\n",
      " 'welcome his guest' 1 0.41527176314514463 1.1717158823601126\n",
      " -1.3876729860513348]\n",
      "[\"['HasSubevent' 'go to zoo' 'see animal' 2.807354922057604]\"\n",
      " \"['HasSubevent' 'go to zoo' 'see animal' 2.807354922057604]\"\n",
      " \"['UsedFor' 'go to zoo' 'see animal' 2.0]\" 'go to zoo' 'MotivatedByGoal'\n",
      " 'see animal' 1 0.2264501241313191 0.86590902805507419 -1.7009806558672751]\n",
      "[ \"['HasPrerequisite' 'go to get haircut' 'go to barber' 3.1699250014423126]\"\n",
      " \"['HasPrerequisite' 'go to get haircut' 'go to barber' 3.1699250014423126]\"\n",
      " \"['CapableOf' 'something' 'go' 2.3219280948873617]\" 'go to get haircut'\n",
      " 'HasPrerequisite' 'go to hairdresser' 1 0.72394881408604539\n",
      " 1.2761242833671089 -1.4204288038359389]\n",
      "--------\n",
      "\n",
      "\n",
      "\n",
      "\n",
      "['dnn_closest', 'maxsim_OMCS_closest', 'maxsim_glove_closest', 'head', 'rel', 'tail', 'weight', 'dnn_glove_score', 'dnn_score_norm', 'maxsim_OMCS_score_norm']\n",
      "top10bestDNN_neg\n",
      "=====\n",
      "[\"['Causes' 'work' 'buy house' 2.0]\" \"['Causes' 'work' 'buy house' 2.0]\"\n",
      " \"['IsA' 'this' 'house' 3.1699250014423126]\" 'work' 'Causes' 'house' 0\n",
      " 0.0063834106359956242 -1.0479652088908216 1.2869714168089157]\n",
      "[\"['AtLocation' 'something' 'hard disk' 1.5849625007211563]\"\n",
      " \"['AtLocation' 'something' 'hard disk' 1.5849625007211563]\"\n",
      " \"['HasProperty' 'do what you love' 'hard' 1.5849625007211563]\" 'something'\n",
      " 'AtLocation' 'hard' 0 0.046988809769546773 -1.0751388743331312\n",
      " 1.2439546064099178]\n",
      "[\"['CapableOf' 'person' 'bridge gap' 2.807354922057604]\"\n",
      " \"['CapableOf' 'person' 'bridge gap' 2.807354922057604]\"\n",
      " \"['CapableOf' 'person' 'bridge gap' 2.807354922057604]\" 'person'\n",
      " 'CapableOf' 'bridge' 0 0.01405915204568251 -0.5013755138798951\n",
      " 1.6792269393250343]\n",
      "[\"['AtLocation' 'computer' 'grocery store' 2.3219280948873617]\"\n",
      " \"['AtLocation' 'computer' 'grocery store' 2.3219280948873617]\"\n",
      " \"['AtLocation' 'computer' 'grocery store' 2.3219280948873617]\" 'computer'\n",
      " 'CapableOf' 'store' 0 0.16232882580595479 -0.9516692509521717\n",
      " 1.155553257896855]\n",
      "[\"['HasProperty' 'kiss' 'good' 2.0]\" \"['HasProperty' 'kiss' 'good' 2.0]\"\n",
      " \"['HasProperty' 'kiss' 'good' 2.0]\" 'kiss someone' 'HasProperty' 'good' 0\n",
      " 0.32341305721754532 -0.67378183390496615 1.3545996790694856]\n",
      "[\"['HasProperty' 'kitty cat' 'cute' 1.5849625007211563]\"\n",
      " \"['HasProperty' 'kitty cat' 'cute' 1.5849625007211563]\"\n",
      " \"['HasProperty' 'dog' 'cute' 2.3219280948873617]\" 'cat' 'IsA' 'cute' 0\n",
      " 0.057835363725811453 -0.92894597542644741 1.0230813631116087]\n",
      "[\"['AtLocation' 'water' 'bird bath' 1.5849625007211563]\"\n",
      " \"['AtLocation' 'water' 'bird bath' 1.5849625007211563]\"\n",
      " \"['AtLocation' 'water' 'bird bath' 1.5849625007211563]\" 'water'\n",
      " 'AtLocation' 'bird' 0 0.066765593409593676 -1.0284619925862939\n",
      " 0.8776234044179092]\n",
      "[\"['AtLocation' 'tampon' 'bathroom' 1.5849625007211563]\"\n",
      " \"['AtLocation' 'tampon' 'bathroom' 1.5849625007211563]\"\n",
      " \"['CapableOf' 'kayak' 'hurt your back' 1.5849625007211563]\" 'kayak'\n",
      " 'AtLocation' 'bathroom' 0 0.082550218413040916 -1.0643904511212954\n",
      " 0.72736155868385399]\n",
      "[\"['UsedFor' 'piece' 'make whole' 2.5849625007211556]\"\n",
      " \"['UsedFor' 'piece' 'make whole' 2.5849625007211556]\"\n",
      " \"['UsedFor' 'piece' 'make whole' 2.5849625007211556]\" 'piece' 'IsA'\n",
      " 'whole' 0 0.16201497478608354 -0.84051030673096694 0.9277434597766564]\n",
      "[\"['UsedFor' 'parent' 'raise child' 1.5849625007211563]\"\n",
      " \"['UsedFor' 'parent' 'raise child' 1.5849625007211563]\"\n",
      " \"['CapableOf' 'parent' 'school child' 2.807354922057604]\" 'parent'\n",
      " 'UsedFor' 'child' 0 0.074959443259715264 -0.35840784642429047\n",
      " 1.3238834437582305]\n",
      "--------\n",
      "\n",
      "\n",
      "\n",
      "\n",
      "['dnn_closest', 'maxsim_OMCS_closest', 'maxsim_glove_closest', 'head', 'rel', 'tail', 'weight', 'dnn_glove_score', 'dnn_score_norm', 'maxsim_OMCS_score_norm']\n",
      "top10bestMax_pos\n",
      "=====\n",
      "[\"['IsA' 'this' 'old see' 1.5849625007211563]\"\n",
      " \"['IsA' 'this' 'old see' 1.5849625007211563]\"\n",
      " \"['IsA' 'this' 'hand see' 1.5849625007211563]\" 'this' 'IsA' 'see' 1\n",
      " 0.035965300917722424 -0.95096908623475784 1.1954076375554417]\n",
      "[\"['HasProperty' 'butter' 'pale yellow' 2.0]\"\n",
      " \"['HasProperty' 'butter' 'pale yellow' 2.0]\"\n",
      " \"['HasProperty' 'butter' 'pale yellow' 2.0]\" 'butter' 'HasProperty'\n",
      " 'yellow' 1 0.40385545472317763 -0.36492792933800033 1.6838689940729583]\n",
      "[\"['IsA' 'person' 'human' 2.3219280948873617]\"\n",
      " \"['IsA' 'person' 'human' 2.3219280948873617]\"\n",
      " \"['AtLocation' 'person' 'human' 1.5849625007211563]\" 'person'\n",
      " 'HasProperty' 'human' 1 0.15518304184648077 -0.97068747759633522\n",
      " 1.0331478073288594]\n",
      "[\"['AtLocation' 'something' 'pub' 2.3219280948873617]\"\n",
      " \"['AtLocation' 'something' 'pub' 2.3219280948873617]\"\n",
      " \"['AtLocation' 'person' 'zoo' 2.5849625007211556]\" 'something'\n",
      " 'AtLocation' 'zoo' 1 0.2792161069972493 -0.87895208586851403\n",
      " 1.0504012381289893]\n",
      "[\"['HasProperty' 'drive car' 'dangerous' 1.5849625007211563]\"\n",
      " \"['HasProperty' 'drive car' 'dangerous' 1.5849625007211563]\"\n",
      " \"['HasProperty' 'drive car' 'dangerous' 1.5849625007211563]\" 'drive'\n",
      " 'HasProperty' 'dangerous' 1 0.22808583705942248 -0.042550156699062945\n",
      " 1.8615300625026943]\n",
      "[\"['AtLocation' 'bass clarinet' 'band' 3.0]\"\n",
      " \"['AtLocation' 'bass clarinet' 'band' 3.0]\"\n",
      " \"['AtLocation' 'saxophone' 'band' 2.0]\" 'clarinet' 'AtLocation' 'band' 1\n",
      " 0.37980341979779725 0.12012445078546535 1.924295831192953]\n",
      "[\"['CapableOf' 'good' 'fight evil' 1.5849625007211563]\"\n",
      " \"['CapableOf' 'good' 'fight evil' 1.5849625007211563]\"\n",
      " \"['CapableOf' 'good' 'fight evil' 1.5849625007211563]\" 'good' 'CapableOf'\n",
      " 'battle evil' 1 0.29240417673661173 -0.84278359364948063\n",
      " 0.93583628788469342]\n",
      "[\"['IsA' 'neptune' 'planet' 3.0874628412503395]\"\n",
      " \"['IsA' 'neptune' 'planet' 3.0874628412503395]\"\n",
      " \"['IsA' 'neptune' 'planet' 3.0874628412503395]\" 'uranus' 'IsA' 'planet' 1\n",
      " 0.59884417788775879 0.060680025679422225 1.7999769068558971]\n",
      "[\"['NotDesires' 'person' 'be kill' 2.3219280948873617]\"\n",
      " \"['CapableOf' 'person' 'kill animal' 1.5849625007211563]\"\n",
      " \"['CapableOf' 'someone' 'kill' 2.3219280948873617]\" 'person'\n",
      " 'ReceivesAction' 'kill' 1 0.06614345293093285 -0.85350090090415853\n",
      " 0.83965317017249674]\n",
      "[\"['HasA' 'house' 'garden' 1.5849625007211563]\"\n",
      " \"['HasA' 'house' 'garden' 1.5849625007211563]\"\n",
      " \"['AtLocation' 'garden' 'yard' 2.3219280948873617]\" 'house' 'HasA' 'yard'\n",
      " 1 0.21241402731348141 -0.55474872647896034 1.1351765393194526]\n",
      "--------\n",
      "\n",
      "\n",
      "\n",
      "\n",
      "['dnn_closest', 'maxsim_OMCS_closest', 'maxsim_glove_closest', 'head', 'rel', 'tail', 'weight', 'dnn_glove_score', 'dnn_score_norm', 'maxsim_OMCS_score_norm']\n",
      "top10bestMax_neg\n",
      "=====\n",
      "[\"['CapableOf' 'kite' 'fly' 3.1699250014423126]\"\n",
      " \"['CapableOf' 'kite' 'fly' 3.1699250014423126]\"\n",
      " \"['UsedFor' 'plane' 'fly' 2.5849625007211556]\" 'fly' 'HasSubevent' 'fly' 0\n",
      " 0.075967552371794603 1.6030379969453914 -0.18822376833935506]\n",
      "[\"['AtLocation' 'show' 'television' 3.0]\"\n",
      " \"['AtLocation' 'show' 'television' 3.0]\"\n",
      " \"['CapableOf' 'you' 'even it out' 1.5849625007211563]\"\n",
      " 'see your favorite show' 'HasSubevent' 'turn on tv' 0 0.51343210652320881\n",
      " 0.51373056992211519 -1.2842576212086192]\n",
      "[\"['CapableOf' 'someone' 'love someone' 2.3219280948873617]\"\n",
      " \"['CapableOf' 'someone' 'love someone' 2.3219280948873617]\"\n",
      " \"['AtLocation' 'something' 'someone' 2.0]\" 'talk to someone' 'UsedFor'\n",
      " 'forgive someone' 0 0.37560848880799752 0.39206536911216944\n",
      " -1.4367191879798864]\n",
      "[\"['HasPrerequisite' 'enjoy film' 'buy popcorn' 2.5849625007211556]\"\n",
      " \"['HasPrerequisite' 'enjoy film' 'buy popcorn' 2.5849625007211556]\"\n",
      " \"['HasFirstSubevent' 'see movie' 'buy ticket' 2.5849625007211556]\"\n",
      " 'enjoy film' 'CausesDesire' 'buy ticket' 0 0.42760310457645179\n",
      " -0.11984303836595929 -2.0400285926346413]\n",
      "[\"['UsedFor' 'heart' 'love' 3.0]\" \"['UsedFor' 'heart' 'love' 3.0]\"\n",
      " \"['UsedFor' 'heart' 'love' 3.0]\" 'heart' 'SymbolOf' 'divorce' 0\n",
      " 0.53065339464173378 0.91643420097995454 -1.1534926260400591]\n",
      "[\"['NotHasProperty' 'work' 'do' 1.5849625007211563]\"\n",
      " \"['HasProperty' 'some game' 'complicate' 1.5849625007211563]\"\n",
      " \"['HasA' 'they' 'node' 1.5849625007211563]\" 'do some exercise' 'CapableOf'\n",
      " 'do cool-down' 0 0.47629099000119751 0.89601341003463597\n",
      " -1.3881245796252617]\n",
      "[\"['HasSubevent' 'wait on table' 'get tip' 2.807354922057604]\"\n",
      " \"['HasSubevent' 'wait on table' 'get tip' 2.807354922057604]\"\n",
      " \"['UsedFor' 'wait on table' 'get tip' 2.0]\" 'wait on table'\n",
      " 'MotivatedByGoal' 'you get tip' 0 0.60736417809337695 1.1936590412583041\n",
      " -1.1476289514037694]\n",
      "[\"['HasSubevent' 'exercise' 'get fit' 2.5849625007211556]\"\n",
      " \"['HasSubevent' 'exercise' 'you drink water' 2.3219280948873617]\"\n",
      " \"['HasA' 'well' 'water' 2.3219280948873617]\" 'do some exercise'\n",
      " 'HasPrerequisite' 'get water' 0 0.53236189445243631 0.90098579505057008\n",
      " -1.6188527758106241]\n",
      "[\"['UsedFor' 'film' 'movie' 2.3219280948873617]\"\n",
      " \"['UsedFor' 'film' 'movie' 2.3219280948873617]\"\n",
      " \"['HasPrerequisite' 'go to movie' 'go' 2.0]\" 'go to film' 'HasSubevent'\n",
      " 'go to movie theater' 0 0.51338419501365073 0.95581566812902707\n",
      " -1.5650299342373493]\n",
      "[\"['HasProperty' 'fly' 'drive' 1.5849625007211563]\"\n",
      " \"['HasProperty' 'fly' 'drive' 1.5849625007211563]\"\n",
      " \"['MotivatedByGoal' 'fly kite' 'see how high it can go' 1.5849625007211563]\"\n",
      " 'fly kite' 'CausesDesire' 'go outside' 0 0.62514274686122784\n",
      " 0.87195826223637307 -2.2162087513278372]\n",
      "--------\n",
      "\n",
      "\n",
      "\n",
      "\n"
     ]
    }
   ],
   "source": [
    "data['dif'] = data['dnn_score_norm'] - data['maxsim_OMCS_score_norm']\n",
    "top10bestDNN_pos = data.query(\"weight==1\").sort_values(\"dif\").iloc[-10:]\n",
    "top10bestDNN_pos.name = \"top10bestDNN_pos\"\n",
    "top10bestDNN_neg = data.query(\"weight==0\").sort_values(\"dif\").iloc[0:10]\n",
    "top10bestDNN_neg.name = \"top10bestDNN_neg\"\n",
    "top10bestMax_pos = data.query(\"weight==1\").sort_values(\"dif\").iloc[0:10]\n",
    "top10bestMax_pos.name= \"top10bestMax_pos\"\n",
    "top10bestMax_neg = data.query(\"weight==0\").sort_values(\"dif\").iloc[-10:]\n",
    "top10bestMax_neg.name = \"top10bestMax_neg\"\n",
    "tmp_df = pd.concat([top10bestDNN_pos, top10bestDNN_neg, top10bestMax_pos, top10bestMax_neg])\n",
    "for ddf in [top10bestDNN_pos, top10bestDNN_neg, top10bestMax_pos, top10bestMax_neg]:\n",
    "    cols = ['dnn_closest', 'maxsim_OMCS_closest', 'maxsim_glove_closest', 'head', 'rel', 'tail', 'weight', 'dnn_glove_score', 'dnn_score_norm', 'maxsim_OMCS_score_norm']\n",
    "    print(cols)\n",
    "    print(ddf.name)\n",
    "    print(\"=====\")\n",
    "    ddf = ddf[cols]\n",
    "    for id in range(len(ddf)):\n",
    "        print ddf.iloc[id].values\n",
    "        \n",
    "    print(\"--------\\n\\n\\n\\n\")\n"
   ]
  }
 ],
 "metadata": {
  "kernelspec": {
   "display_name": "Python 2",
   "language": "python",
   "name": "python2"
  },
  "language_info": {
   "codemirror_mode": {
    "name": "ipython",
    "version": 2
   },
   "file_extension": ".py",
   "mimetype": "text/x-python",
   "name": "python",
   "nbconvert_exporter": "python",
   "pygments_lexer": "ipython2",
   "version": "2.7.13"
  }
 },
 "nbformat": 4,
 "nbformat_minor": 2
}
