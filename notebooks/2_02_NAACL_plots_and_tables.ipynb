{
 "cells": [
  {
   "cell_type": "markdown",
   "metadata": {},
   "source": [
    "# Plots and figures for NAACL submission"
   ]
  },
  {
   "cell_type": "code",
   "execution_count": 14,
   "metadata": {
    "collapsed": false
   },
   "outputs": [
    {
     "name": "stdout",
     "output_type": "stream",
     "text": [
      "mkdir: cannot create directory ‘2_02_NAACL_plots_figures’: File exists\r\n"
     ]
    }
   ],
   "source": [
    "fontsize = 30 # 60\n",
    "linewidth = 2\n",
    "lfontsize = int(fontsize*0.7)\n",
    "figsize=7\n",
    "save_path = \"2_02_NAACL_plots_figures\"\n",
    "!mkdir 2_02_NAACL_plots_figures"
   ]
  },
  {
   "cell_type": "code",
   "execution_count": 212,
   "metadata": {
    "collapsed": true
   },
   "outputs": [],
   "source": [
    "import pandas as pd\n",
    "import numpy as np\n",
    "import os\n",
    "import matplotlib.pylab as plt\n",
    "%matplotlib inline"
   ]
  },
  {
   "cell_type": "markdown",
   "metadata": {},
   "source": [
    "## Novelty evaluation\n",
    "\n",
    "### Human evaluation instructions:\n",
    "\n",
    "Rephrasing, same relation\t1\t\n",
    "triplet that requires simple changes (morphology, removing words)\n",
    "Rephrasing, different relation\t2\t\n",
    "when triplet requiring rephrasing has different relation\n",
    "Similar word, same relation\t3\t\n",
    "when triplet has closely related word (e.g. live in, habit, or book/newspaper)\n",
    "None of the above\t4\t\n",
    "when none of the above\n",
    "Simple inference\t5\t\n",
    "when it requires inference from a single triplet. Common when similar phrasing, but different relation.\n",
    "Knowledge\t6\t\n",
    "\n",
    "Similar word, different relation\t7\t\n",
    "subset of simple inference"
   ]
  },
  {
   "cell_type": "code",
   "execution_count": 23,
   "metadata": {
    "collapsed": false
   },
   "outputs": [
    {
     "data": {
      "text/plain": [
       "'\\nPlan:\\n\\nTable with mean novelty for each dataset, # trivial, # novel, correlation distance\\n'"
      ]
     },
     "execution_count": 23,
     "metadata": {},
     "output_type": "execute_result"
    }
   ],
   "source": [
    "\"\"\"\n",
    "Plan:\n",
    "\n",
    "Table with mean novelty for each dataset, # trivial, # novel, correlation distance\n",
    "\n",
    "Table with histogram of novelty (categories on x axis)\n",
    "\"\"\""
   ]
  },
  {
   "cell_type": "code",
   "execution_count": 206,
   "metadata": {
    "collapsed": true
   },
   "outputs": [],
   "source": [
    "novelty_dir = \"/data/milatmp1/jastrzes/l2lwe/eval/novelty\"\n",
    "data = {\n",
    "    \"li-test\": \"test_sample100pos_closest_scored\",\n",
    "    \"rand-train\": \"train_sample100_100k_closest_scored\",\n",
    "    \"wiki-top10k\": \"tuples.wiki.top500_10k_closest_scored\"\n",
    "}\n",
    "\n",
    "key_to_name = {\n",
    "    \"li-test\": \"High quality\",\n",
    "    \"rand-train\": \"Random\",\n",
    "    \"wiki-top10k\": \"Wiki\"\n",
    "}"
   ]
  },
  {
   "cell_type": "code",
   "execution_count": 200,
   "metadata": {
    "collapsed": true
   },
   "outputs": [],
   "source": [
    "code_to_category = {\n",
    "    1: \"same rel, rephrase\",\n",
    "    2: \"different rel, rephrase\",\n",
    "    3: \"same rel, similar word\",\n",
    "    4: \"novel\",\n",
    "    5: \"novel, simple inference\",\n",
    "    6: \"knowledge\",\n",
    "    7: \"different rel, similar word\"\n",
    "}\n",
    "\n",
    "category_to_code = {v: k for k, v in code_to_category.iteritems()}\n",
    "\n",
    "novelty_score = {\n",
    "    \"same rel, rephrase\": 0,\n",
    "    \"different rel, rephrase\": 1,\n",
    "    \"same rel, similar word\": 2,\n",
    "    \"different rel, similar word\": 3,\n",
    "    \"novel, simple inference\": 4,\n",
    "    \"novel\": 5\n",
    "}\n",
    "\n",
    "novelty_score_to_cat = {v: k for k, v in novelty_score.iteritems()}"
   ]
  },
  {
   "cell_type": "code",
   "execution_count": 101,
   "metadata": {
    "collapsed": true
   },
   "outputs": [],
   "source": [
    "import scipy\n",
    "from scipy.stats import pearsonr"
   ]
  },
  {
   "cell_type": "markdown",
   "metadata": {},
   "source": [
    "### Histogram"
   ]
  },
  {
   "cell_type": "code",
   "execution_count": 209,
   "metadata": {
    "collapsed": false
   },
   "outputs": [
    {
     "name": "stdout",
     "output_type": "stream",
     "text": [
      "Before subsetting wiki-top10k 500 rows\n",
      "After subsetting 34 rows\n",
      "Before subsetting li-test 100 rows\n",
      "After subsetting 95 rows\n",
      "Before subsetting rand-train 100 rows\n",
      "After subsetting 84 rows\n",
      "\\begin{tabular}{lllllll}\n",
      "\\toprule\n",
      "{} &      A &      B &      C &     D &      E &      F \\\\\n",
      "\\midrule\n",
      "Wiki         &  $14$\\% &   $5$\\% &  $17$\\% &  $8$\\% &   $8$\\% &  $44$\\% \\\\\n",
      "High quality &  $65$\\% &  $22$\\% &   $4$\\% &  $4$\\% &   $2$\\% &   $2$\\% \\\\\n",
      "Random       &  $21$\\% &  $10$\\% &  $16$\\% &  $3$\\% &  $17$\\% &  $29$\\% \\\\\n",
      "\\bottomrule\n",
      "\\end{tabular}\n",
      "\n"
     ]
    },
    {
     "data": {
      "text/html": [
       "<div>\n",
       "<style>\n",
       "    .dataframe thead tr:only-child th {\n",
       "        text-align: right;\n",
       "    }\n",
       "\n",
       "    .dataframe thead th {\n",
       "        text-align: left;\n",
       "    }\n",
       "\n",
       "    .dataframe tbody tr th {\n",
       "        vertical-align: top;\n",
       "    }\n",
       "</style>\n",
       "<table border=\"1\" class=\"dataframe\">\n",
       "  <thead>\n",
       "    <tr style=\"text-align: right;\">\n",
       "      <th></th>\n",
       "      <th>A</th>\n",
       "      <th>B</th>\n",
       "      <th>C</th>\n",
       "      <th>D</th>\n",
       "      <th>E</th>\n",
       "      <th>F</th>\n",
       "    </tr>\n",
       "  </thead>\n",
       "  <tbody>\n",
       "    <tr>\n",
       "      <th>Wiki</th>\n",
       "      <td>$14$%</td>\n",
       "      <td>$5$%</td>\n",
       "      <td>$17$%</td>\n",
       "      <td>$8$%</td>\n",
       "      <td>$8$%</td>\n",
       "      <td>$44$%</td>\n",
       "    </tr>\n",
       "    <tr>\n",
       "      <th>High quality</th>\n",
       "      <td>$65$%</td>\n",
       "      <td>$22$%</td>\n",
       "      <td>$4$%</td>\n",
       "      <td>$4$%</td>\n",
       "      <td>$2$%</td>\n",
       "      <td>$2$%</td>\n",
       "    </tr>\n",
       "    <tr>\n",
       "      <th>Random</th>\n",
       "      <td>$21$%</td>\n",
       "      <td>$10$%</td>\n",
       "      <td>$16$%</td>\n",
       "      <td>$3$%</td>\n",
       "      <td>$17$%</td>\n",
       "      <td>$29$%</td>\n",
       "    </tr>\n",
       "  </tbody>\n",
       "</table>\n",
       "</div>"
      ],
      "text/plain": [
       "                  A      B      C     D      E      F\n",
       "Wiki          $14$%   $5$%  $17$%  $8$%   $8$%  $44$%\n",
       "High quality  $65$%  $22$%   $4$%  $4$%   $2$%   $2$%\n",
       "Random        $21$%  $10$%  $16$%  $3$%  $17$%  $29$%"
      ]
     },
     "execution_count": 209,
     "metadata": {},
     "output_type": "execute_result"
    }
   ],
   "source": [
    "D = []\n",
    "ordered_categories = [novelty_score_to_cat[v] for v in range(6)]\n",
    "\n",
    "for k in data.keys():#[\"wiki-top10k\"]:\n",
    "    row = {}\n",
    "    \n",
    "    # Hacky read, make sure works\n",
    "    A = pd.read_csv(os.path.join(novelty_dir, data[k] + \".tsv\"), sep=\"\\t\", header=None)\n",
    "    A.columns = [\"T/F\", \"novelty category\", \"rel\", \"head\", \"tail\"] + [\"n\" + str(id) for id in range(len(A.columns) - 5)]\n",
    "    dists_path = os.path.join(novelty_dir, data[k] + \".tsv.dists\").replace(\"_scored\", \"\")\n",
    "    dists = np.array([float(z) for z in open(dists_path).read().splitlines()])\n",
    "    A['dist'] = dists\n",
    "    A['T/F_casted'] = [0 if v==\"F\" else (1 if v==\"F\" else np.nan) for v in A['T/F'].values]\n",
    "    assert len(A) == len(dists)\n",
    "    \n",
    "    # Subset\n",
    "    print(\"Before subsetting {} {} rows\".format(k, len(A)))\n",
    "    sel = (np.isnan(A['T/F_casted'].values)) & (~np.isnan(A['novelty category'].values)) & (A['novelty category'].values != category_to_code['knowledge'])\n",
    "    A = A[sel]\n",
    "    print(\"After subsetting {} rows\".format(len(A)))\n",
    "\n",
    "    N = float(len(A))\n",
    "    for cat in ordered_categories:\n",
    "        row[cat] = int(sum(A['novelty category'].values == category_to_code[cat])/N*100)\n",
    "    \n",
    "    row = {k:\"${0}$%\".format(row[k]) for k in row}\n",
    "    \n",
    "    D.append(row)\n",
    "    \n",
    "D = pd.DataFrame(D, index=[key_to_name[k] for k in data.keys()])\n",
    "D = D[ordered_categories]\n",
    "D.columns = list(\"ABCDEF\")\n",
    "\n",
    "print D.to_latex().replace(\"\\\\textbackslash\", \"\\\\\").replace(\"\\\\$\", \"$\")\n",
    "\n",
    "D"
   ]
  },
  {
   "cell_type": "markdown",
   "metadata": {},
   "source": [
    "### Mean novelty + correlation"
   ]
  },
  {
   "cell_type": "code",
   "execution_count": 211,
   "metadata": {
    "collapsed": false
   },
   "outputs": [
    {
     "name": "stdout",
     "output_type": "stream",
     "text": [
      "Before subsetting wiki-top10k 500 rows\n",
      "After subsetting 34 rows\n",
      "Before subsetting li-test 100 rows\n",
      "After subsetting 95 rows\n",
      "Before subsetting rand-train 100 rows\n",
      "After subsetting 84 rows\n",
      "\\begin{tabular}{lllll}\n",
      "\\toprule\n",
      "{} & Mean novelty & Mean novelty (close) & Mean novelty (far) & Pearson correlation \\\\\n",
      "\\midrule\n",
      "Wiki         &       $3.24$ &               $2.47$ &             $4.00$ &              $0.47$ \\\\\n",
      "High quality &       $0.62$ &               $0.49$ &             $0.75$ &              $0.22$ \\\\\n",
      "Random       &       $2.75$ &               $2.17$ &             $3.33$ &              $0.30$ \\\\\n",
      "\\bottomrule\n",
      "\\end{tabular}\n",
      "\n"
     ]
    },
    {
     "data": {
      "text/html": [
       "<div>\n",
       "<style>\n",
       "    .dataframe thead tr:only-child th {\n",
       "        text-align: right;\n",
       "    }\n",
       "\n",
       "    .dataframe thead th {\n",
       "        text-align: left;\n",
       "    }\n",
       "\n",
       "    .dataframe tbody tr th {\n",
       "        vertical-align: top;\n",
       "    }\n",
       "</style>\n",
       "<table border=\"1\" class=\"dataframe\">\n",
       "  <thead>\n",
       "    <tr style=\"text-align: right;\">\n",
       "      <th></th>\n",
       "      <th>Mean novelty</th>\n",
       "      <th>Mean novelty (close)</th>\n",
       "      <th>Mean novelty (far)</th>\n",
       "      <th>Pearson correlation</th>\n",
       "    </tr>\n",
       "  </thead>\n",
       "  <tbody>\n",
       "    <tr>\n",
       "      <th>Wiki</th>\n",
       "      <td>$3.24$</td>\n",
       "      <td>$2.47$</td>\n",
       "      <td>$4.00$</td>\n",
       "      <td>$0.47$</td>\n",
       "    </tr>\n",
       "    <tr>\n",
       "      <th>High quality</th>\n",
       "      <td>$0.62$</td>\n",
       "      <td>$0.49$</td>\n",
       "      <td>$0.75$</td>\n",
       "      <td>$0.22$</td>\n",
       "    </tr>\n",
       "    <tr>\n",
       "      <th>Random</th>\n",
       "      <td>$2.75$</td>\n",
       "      <td>$2.17$</td>\n",
       "      <td>$3.33$</td>\n",
       "      <td>$0.30$</td>\n",
       "    </tr>\n",
       "  </tbody>\n",
       "</table>\n",
       "</div>"
      ],
      "text/plain": [
       "             Mean novelty Mean novelty (close) Mean novelty (far)  \\\n",
       "Wiki               $3.24$               $2.47$             $4.00$   \n",
       "High quality       $0.62$               $0.49$             $0.75$   \n",
       "Random             $2.75$               $2.17$             $3.33$   \n",
       "\n",
       "             Pearson correlation  \n",
       "Wiki                      $0.47$  \n",
       "High quality              $0.22$  \n",
       "Random                    $0.30$  "
      ]
     },
     "execution_count": 211,
     "metadata": {},
     "output_type": "execute_result"
    }
   ],
   "source": [
    "D = []\n",
    "\n",
    "for k in data.keys():#[\"wiki-top10k\"]:\n",
    "    row = {}\n",
    "    \n",
    "    # Hacky read, make sure works\n",
    "    A = pd.read_csv(os.path.join(novelty_dir, data[k] + \".tsv\"), sep=\"\\t\", header=None)\n",
    "    A.columns = [\"T/F\", \"novelty category\", \"rel\", \"head\", \"tail\"] + [\"n\" + str(id) for id in range(len(A.columns) - 5)]\n",
    "    dists_path = os.path.join(novelty_dir, data[k] + \".tsv.dists\").replace(\"_scored\", \"\")\n",
    "    dists = np.array([float(z) for z in open(dists_path).read().splitlines()])\n",
    "    A['dist'] = dists\n",
    "    A['T/F_casted'] = [0 if v==\"F\" else (1 if v==\"F\" else np.nan) for v in A['T/F'].values]\n",
    "    assert len(A) == len(dists)\n",
    "    \n",
    "    # Subset\n",
    "    print(\"Before subsetting {} {} rows\".format(k, len(A)))\n",
    "    sel = (np.isnan(A['T/F_casted'].values)) & (~np.isnan(A['novelty category'].values)) & (A['novelty category'].values != category_to_code['knowledge'])\n",
    "    A = A[sel]\n",
    "    print(\"After subsetting {} rows\".format(len(A)))\n",
    "\n",
    "    # Extra processing\n",
    "    A['novelty score'] = [novelty_score[code_to_category[v]] for v in A['novelty category']]\n",
    "    \n",
    "    # Add row\n",
    "    row['Mean novelty'] = np.mean(A['novelty score'])\n",
    "    row['Mean novelty (close)'] = np.mean(A['novelty score'].values[np.argsort(A['dist'])[0:(len(A)/2)]])\n",
    "    row['Mean novelty (far)'] = np.mean(A['novelty score'].values[np.argsort(A['dist'])[(len(A)/2):]])\n",
    "    row['Pearson correlation'] = pearsonr(A['novelty score'].values, A['dist'].values)[0]\n",
    "    \n",
    "    row = {k:\"${0:.2f}$\".format(row[k]) for k in row}\n",
    "    \n",
    "    D.append(row)\n",
    "    \n",
    "D = pd.DataFrame(D, index=[key_to_name[k] for k in data.keys()])\n",
    "\n",
    "print D.to_latex().replace(\"\\\\textbackslash\", \"\\\\\").replace(\"\\\\$\", \"$\")\n",
    "\n",
    "D"
   ]
  },
  {
   "cell_type": "markdown",
   "metadata": {},
   "source": [
    "## Models select for novel examples"
   ]
  },
  {
   "cell_type": "code",
   "execution_count": null,
   "metadata": {
    "collapsed": true
   },
   "outputs": [],
   "source": [
    "\"\"\"\n",
    "Data based on:\n",
    "\n",
    "Bilinear AVG:\n",
    "100 6.55929998312 1.55408313655 2.01434971313 10.6137199302\n",
    "1000 6.2092080361 1.63795161145 2.59758217403 10.1716750275\n",
    "10000 5.83753308128 2.04132890873 0.0 10.0215769034\n",
    "100000 5.76031281058 1.82849869091 1.87070485377 9.9147492036\n",
    "1000000 5.88307964427 2.09135583904 2.96670636949 11.951794344\n",
    "\n",
    "Prototypical\n",
    "--\n",
    "100 7.96347576215 1.70557050395 4.04987467302 10.7852191478\n",
    "1000 6.90560373882 2.07038575489 2.05574725 11.3117595532\n",
    "10000 6.01117001778 2.00991527102 2.21324647341 10.7992605036\n",
    "100000 5.3410484093 1.53847560579 2.19548225849 10.6464093284\n",
    "1000000 5.8649856933 2.017441234 2.76355051571 12.3994254923\n",
    "\n",
    "\n",
    ", which is output from 25_12_wiki_subsample.ipynb\n",
    "\"\"\""
   ]
  },
  {
   "cell_type": "code",
   "execution_count": 21,
   "metadata": {
    "collapsed": true
   },
   "outputs": [],
   "source": [
    "data = {\n",
    "    \"prototypical\": [7.96, 6.90, 6.11, 5.34, 5.586],\n",
    "    \"bilinear\": [6.55, 6.20, 5.83, 5.76, 5.88]\n",
    "}\n",
    "\n",
    "ranges = [100, 1000, 10000, 100000, 1000000]"
   ]
  },
  {
   "cell_type": "code",
   "execution_count": 22,
   "metadata": {
    "collapsed": false
   },
   "outputs": [
    {
     "data": {
      "image/png": "[encoded data removed]",
      "text/plain": [
       "<matplotlib.figure.Figure at 0x7f7462eaf910>"
      ]
     },
     "metadata": {},
     "output_type": "display_data"
    }
   ],
   "source": [
    "plt.figure(figsize=(figsize, 0.5*figsize))\n",
    "\n",
    "plt.plot(ranges, data['prototypical'], label=\"Prototypical\", marker=\"o\", linestyle=\"-\")\n",
    "plt.plot(ranges, data['bilinear'], label=\"Bilinear\", marker=\"o\", linestyle=\"-\")\n",
    "\n",
    "ax = plt.gca()\n",
    "\n",
    "ax.set_ylabel(\"Mean distance\",fontsize=fontsize)\n",
    "ax.set_xscale(\"log\")\n",
    "ax.set_xlabel(\"$K$\", fontsize=fontsize)\n",
    "\n",
    "ax.set_yticklabels([\"{:.1f}\".format(xx) for id_x, xx in enumerate(ax.get_yticks())],fontsize=lfontsize)\n",
    "ax.set_xticklabels([\"{:.0E}\".format(xx) for id_x, xx in enumerate(ax.get_xticks())],fontsize=lfontsize)\n",
    "\n",
    "plt.legend(fontsize=lfontsize)\n",
    "plt.savefig(os.path.join(save_path, \"top_k_dist.pdf\"), bbox_inches='tight')  "
   ]
  },
  {
   "cell_type": "markdown",
   "metadata": {
    "collapsed": true
   },
   "source": [
    "# CN-completion results\n",
    "\n",
    "Idea: b1/b2/b3 \n",
    "\n",
    "row: model\n",
    "column: dataset (all) dataset( split)"
   ]
  },
  {
   "cell_type": "code",
   "execution_count": 142,
   "metadata": {
    "collapsed": false
   },
   "outputs": [],
   "source": [
    "DATA_DIR = \"/data/milatmp1/jastrzes/l2lwe/data\"\n",
    "test = pd.read_csv(os.path.join(DATA_DIR, \"ACL/conceptnet/test.txt\"), sep=\"\\t\", header=None)\n",
    "test.columns = ['rel', 'head', 'tail', 'score']"
   ]
  },
  {
   "cell_type": "code",
   "execution_count": 193,
   "metadata": {
    "collapsed": true
   },
   "outputs": [],
   "source": [
    "from sklearn.metrics import f1_score"
   ]
  },
  {
   "cell_type": "code",
   "execution_count": 187,
   "metadata": {
    "collapsed": true
   },
   "outputs": [],
   "source": [
    "from os.path import join\n",
    "import json\n",
    "\n",
    "factorized_dir = \"/data/milatmp1/jastrzes/l2lwe/results/factorized/\"\n",
    "dnn_dir = \"/data/milatmp1/jastrzes/l2lwe/results/dnn_ce/\"\n",
    "\n",
    "data_li = {\n",
    "    \"prototypical\": join(factorized_dir, \"3_01_prototypical_conceptnet_my\"),\n",
    "    \"prototypical + glove\": join(factorized_dir, \"3_01_prototypical_conceptnet_my_glove_3\"),\n",
    "    \"factorized\": join(factorized_dir, \"3_01_root_conceptnet_my_2\"),\n",
    "    \"factorized + glove\": join(factorized_dir, \"3_01_root_conceptnet_my_glove_2\"),\n",
    "    \"DNN\": join(dnn_dir, \"3_01_root_conceptnet_my\"),\n",
    "    \"DNN + glove\": join(dnn_dir, \"3_01_root_conceptnet_my_glove\")\n",
    "}\n",
    "\n",
    "data_random = {\n",
    "    \"prototypical\": join(factorized_dir, \"3_01_prototypical_conceptnet_my_random_100k\"),\n",
    "    \"prototypical + glove\": join(factorized_dir, \"3_01_prototypical_conceptnet_my_random_100k_glove_3\"),\n",
    "    \"factorized\": join(factorized_dir, \"2_01_root_conceptnet_my_random_100k\"),\n",
    "    \"factorized + glove\": join(factorized_dir, \"3_01_root_conceptnet_my_random_100k_glove\"),\n",
    "    \"DNN\": join(dnn_dir, \"3_01_root_conceptnet_my_random_100k\"),\n",
    "    \"DNN + glove\": join(dnn_dir, \"3_01_root_conceptnet_my_random_100k_glove\")\n",
    "}\n",
    "\n",
    "datasets = {\"li\": data_li, \"random\": data_random}"
   ]
  },
  {
   "cell_type": "code",
   "execution_count": 196,
   "metadata": {
    "collapsed": false
   },
   "outputs": [
    {
     "name": "stdout",
     "output_type": "stream",
     "text": [
      "/data/milatmp1/jastrzes/l2lwe/results/factorized/3_01_prototypical_conceptnet_my/eval_results.json\n",
      "/data/milatmp1/jastrzes/l2lwe/results/factorized/2_01_root_conceptnet_my_random_100k/eval_results.json\n",
      "/data/milatmp1/jastrzes/l2lwe/results/dnn_ce/3_01_root_conceptnet_my_random_100k_glove/eval_results.json\n",
      "/data/milatmp1/jastrzes/l2lwe/results/dnn_ce/3_01_root_conceptnet_my_random_100k/eval_results.json\n",
      "/data/milatmp1/jastrzes/l2lwe/results/factorized/3_01_prototypical_conceptnet_my_random_100k_glove_3/eval_results.json\n",
      "/data/milatmp1/jastrzes/l2lwe/results/factorized/3_01_root_conceptnet_my_random_100k_glove/eval_results.json\n",
      "\\begin{tabular}{lll}\n",
      "\\toprule\n",
      "{} &   random &              random(buckets) \\\\\n",
      "\\midrule\n",
      "factorized           &  $0.822$ &  $0.874$ / $0.812$ / $0.731$ \\\\\n",
      "DNN + glove          &  $0.789$ &  $0.868$ / $0.772$ / $0.695$ \\\\\n",
      "DNN                  &  $0.809$ &  $0.883$ / $0.809$ / $0.725$ \\\\\n",
      "prototypical + glove &  $0.756$ &  $0.871$ / $0.734$ / $0.632$ \\\\\n",
      "factorized + glove   &  $0.799$ &  $0.869$ / $0.788$ / $0.669$ \\\\\n",
      "prototypical         &  $0.755$ &  $0.866$ / $0.758$ / $0.674$ \\\\\n",
      "\\bottomrule\n",
      "\\end{tabular}\n",
      "\n"
     ]
    },
    {
     "data": {
      "text/html": [
       "<div>\n",
       "<style>\n",
       "    .dataframe thead tr:only-child th {\n",
       "        text-align: right;\n",
       "    }\n",
       "\n",
       "    .dataframe thead th {\n",
       "        text-align: left;\n",
       "    }\n",
       "\n",
       "    .dataframe tbody tr th {\n",
       "        vertical-align: top;\n",
       "    }\n",
       "</style>\n",
       "<table border=\"1\" class=\"dataframe\">\n",
       "  <thead>\n",
       "    <tr style=\"text-align: right;\">\n",
       "      <th></th>\n",
       "      <th>random</th>\n",
       "      <th>random(buckets)</th>\n",
       "    </tr>\n",
       "  </thead>\n",
       "  <tbody>\n",
       "    <tr>\n",
       "      <th>factorized</th>\n",
       "      <td>$0.822$</td>\n",
       "      <td>$0.874$ / $0.812$ / $0.731$</td>\n",
       "    </tr>\n",
       "    <tr>\n",
       "      <th>DNN + glove</th>\n",
       "      <td>$0.789$</td>\n",
       "      <td>$0.868$ / $0.772$ / $0.695$</td>\n",
       "    </tr>\n",
       "    <tr>\n",
       "      <th>DNN</th>\n",
       "      <td>$0.809$</td>\n",
       "      <td>$0.883$ / $0.809$ / $0.725$</td>\n",
       "    </tr>\n",
       "    <tr>\n",
       "      <th>prototypical + glove</th>\n",
       "      <td>$0.756$</td>\n",
       "      <td>$0.871$ / $0.734$ / $0.632$</td>\n",
       "    </tr>\n",
       "    <tr>\n",
       "      <th>factorized + glove</th>\n",
       "      <td>$0.799$</td>\n",
       "      <td>$0.869$ / $0.788$ / $0.669$</td>\n",
       "    </tr>\n",
       "    <tr>\n",
       "      <th>prototypical</th>\n",
       "      <td>$0.755$</td>\n",
       "      <td>$0.866$ / $0.758$ / $0.674$</td>\n",
       "    </tr>\n",
       "  </tbody>\n",
       "</table>\n",
       "</div>"
      ],
      "text/plain": [
       "                       random              random(buckets)\n",
       "factorized            $0.822$  $0.874$ / $0.812$ / $0.731$\n",
       "DNN + glove           $0.789$  $0.868$ / $0.772$ / $0.695$\n",
       "DNN                   $0.809$  $0.883$ / $0.809$ / $0.725$\n",
       "prototypical + glove  $0.756$  $0.871$ / $0.734$ / $0.632$\n",
       "factorized + glove    $0.799$  $0.869$ / $0.788$ / $0.669$\n",
       "prototypical          $0.755$  $0.866$ / $0.758$ / $0.674$"
      ]
     },
     "execution_count": 196,
     "metadata": {},
     "output_type": "execute_result"
    }
   ],
   "source": [
    "D = []\n",
    "assert data_li.keys() == data_random.keys()\n",
    "for model in data_li.keys():\n",
    "    row = {}\n",
    "    \n",
    "    # Columns\n",
    "    for dataset in ['random']:\n",
    "        print(path)\n",
    "        path = join(datasets[dataset][model], \"eval_results.json\")\n",
    "        cpath = join(datasets[dataset][model], \"config.json\") \n",
    "        \n",
    "        if os.path.exists(path):\n",
    "            \n",
    "            # Read\n",
    "            scores = json.load(open(path))\n",
    "            c = json.load(open(cpath))\n",
    "            distpath = join(c['data_dir'], \"test.txt.dists\")\n",
    "            \n",
    "            \n",
    "            # Normal acc\n",
    "            row[dataset] = \"${0:.3f}$\".format(scores['test_thr_acc'])\n",
    "            \n",
    "            if os.path.exists(distpath):\n",
    "                dists = np.array([float(v) for v in open(distpath).read().splitlines()])\n",
    "                # Bucket acc\n",
    "                dist_id = np.argsort(dists)\n",
    "                K = len(dist_id)/3\n",
    "                bucket_scores = []\n",
    "                for id in range(3):\n",
    "                    bucket = dist_id[id*K:(id+1)*K]\n",
    "                    bucket_scores.append(\"${0:.3f}$\".format(f1_score(test.score.values[bucket], \n",
    "                        np.array(scores['scores_test'])[bucket] >= scores['threshold']))) # scores['test_thr_acc']\n",
    "\n",
    "                row[dataset + \"(buckets)\"] = \" / \".join(bucket_scores)\n",
    "            \n",
    "        else:\n",
    "            row[dataset] = 0\n",
    "        \n",
    "        \n",
    "        # TODO: Add split based\n",
    "        \n",
    "    D.append(row)\n",
    "    \n",
    "D = pd.DataFrame(D, index=data_li.keys())\n",
    "print D.to_latex().replace(\"\\\\textbackslash\", \"\\\\\").replace(\"\\\\$\", \"$\")\n",
    "D"
   ]
  },
  {
   "cell_type": "markdown",
   "metadata": {},
   "source": [
    "# Li evaluation on wiki results\n",
    "\n",
    "Scored by Stan and Arian, Bilinear vs factorized vs prototypical.\n",
    "\n",
    "Column is model, single row"
   ]
  },
  {
   "cell_type": "code",
   "execution_count": 232,
   "metadata": {
    "collapsed": true
   },
   "outputs": [],
   "source": [
    "from collections import defaultdict\n",
    "import json"
   ]
  },
  {
   "cell_type": "code",
   "execution_count": null,
   "metadata": {
    "collapsed": true
   },
   "outputs": [],
   "source": [
    "\"\"\"\n",
    "For future reference.\n",
    "\n",
    "Script used to get results:\n",
    "\n",
    "python scripts/evaluate/human_evaluate_triplets_v2.py evaluate \n",
    "/data/milatmp1/jastrzes/l2lwe/eval/1/mapping_1.csv /data/milatmp1/jastrzes/l2lwe/eval/1/eval_1_done_stan.tsv  \n",
    "/data/milatmp1/jastrzes/l2lwe/eval/1/eval_results.json\n",
    "\n",
    "python scripts/evaluate/human_evaluate_triplets_v2.py evaluate \n",
    "/data/milatmp1/jastrzes/l2lwe/eval/2/mapping_2.csv /data/milatmp1/jastrzes/l2lwe/eval/2/eval_2_done_stan.csv  \n",
    "/data/milatmp1/jastrzes/l2lwe/eval/2/eval_results.json\n",
    "\n",
    "python scripts/evaluate/human_evaluate_triplets_v2.py evaluate \n",
    "/data/milatmp1/jastrzes/l2lwe/eval/1/mapping_2.csv /data/milatmp1/jastrzes/l2lwe/eval/1/eval_1_done_arian.csv  \n",
    "/data/milatmp1/jastrzes/l2lwe/eval/1/eval_results_arian.json\n",
    "\n",
    "python scripts/evaluate/human_evaluate_triplets_v2.py evaluate \n",
    "/data/milatmp1/jastrzes/l2lwe/eval/2/mapping_2.csv /data/milatmp1/jastrzes/l2lwe/eval/2/eval_2_done_arian.csv  \n",
    "/data/milatmp1/jastrzes/l2lwe/eval/2/eval_results_arian.json\n",
    "\"\"\""
   ]
  },
  {
   "cell_type": "code",
   "execution_count": 240,
   "metadata": {
    "collapsed": true
   },
   "outputs": [],
   "source": [
    "# Configuration\n",
    "evals = [\"/data/milatmp1/jastrzes/l2lwe/eval/1/eval_results.json\", \n",
    "         \"/data/milatmp1/jastrzes/l2lwe/eval/2/eval_results.json\",\n",
    "        \"/data/milatmp1/jastrzes/l2lwe/eval/1/eval_results_arian.json\", \n",
    "         \"/data/milatmp1/jastrzes/l2lwe/eval/2/eval_results_arian.json\"]\n",
    "\n",
    "modelname_to_tablename = {\n",
    "    \"12_11_prototypical\": \"Prototypical\",\n",
    "    \"LiACL\": \"Bilinear\",\n",
    "    \"13_11_root\": \"Factorized\"\n",
    "}\n",
    "\n",
    "def get_modelname(name):\n",
    "    return name.split(\"/\")[-3]"
   ]
  },
  {
   "cell_type": "code",
   "execution_count": 258,
   "metadata": {
    "collapsed": false
   },
   "outputs": [
    {
     "name": "stdout",
     "output_type": "stream",
     "text": [
      "\\begin{tabular}{llll}\n",
      "\\toprule\n",
      "{} & Bilinear & Factorized & Prototypical \\\\\n",
      "\\midrule\n",
      "Wiki top 100 &     1.78 &       1.96 &         2.00 \\\\\n",
      "\\bottomrule\n",
      "\\end{tabular}\n",
      "\n"
     ]
    },
    {
     "data": {
      "text/html": [
       "<div>\n",
       "<style>\n",
       "    .dataframe thead tr:only-child th {\n",
       "        text-align: right;\n",
       "    }\n",
       "\n",
       "    .dataframe thead th {\n",
       "        text-align: left;\n",
       "    }\n",
       "\n",
       "    .dataframe tbody tr th {\n",
       "        vertical-align: top;\n",
       "    }\n",
       "</style>\n",
       "<table border=\"1\" class=\"dataframe\">\n",
       "  <thead>\n",
       "    <tr style=\"text-align: right;\">\n",
       "      <th></th>\n",
       "      <th>Bilinear</th>\n",
       "      <th>Factorized</th>\n",
       "      <th>Prototypical</th>\n",
       "    </tr>\n",
       "  </thead>\n",
       "  <tbody>\n",
       "    <tr>\n",
       "      <th>Wiki top 100</th>\n",
       "      <td>1.78</td>\n",
       "      <td>1.96</td>\n",
       "      <td>2.00</td>\n",
       "    </tr>\n",
       "  </tbody>\n",
       "</table>\n",
       "</div>"
      ],
      "text/plain": [
       "             Bilinear Factorized Prototypical\n",
       "Wiki top 100     1.78       1.96         2.00"
      ]
     },
     "execution_count": 258,
     "metadata": {},
     "output_type": "execute_result"
    }
   ],
   "source": [
    "# Small script to compute the table\n",
    "D = defaultdict(list)\n",
    "for E in evals:\n",
    "    # Assumed keys: \"A\", \"B\" and \"key_to_name\"\n",
    "    R = json.load(open(E))\n",
    "    assert \"A\" in R; assert \"B\" in R; assert \"key_to_name\" in R\n",
    "    # HACK: Assumption that keys are A or B\n",
    "    for key in ['A', 'B']:\n",
    "        modelname = get_modelname(R['key_to_name'][key])\n",
    "        if modelname in modelname_to_tablename:\n",
    "            D[modelname_to_tablename[modelname]].append(R[key])\n",
    "\n",
    "D = {tablename: \"{0:.2f}\".format(np.mean(D[tablename])) for tablename in D}\n",
    "D = pd.DataFrame({\"Wiki top 100\": D}).T\n",
    "print D.to_latex().replace(\"\\\\textbackslash\", \"\\\\\").replace(\"\\\\$\", \"$\")\n",
    "D"
   ]
  },
  {
   "cell_type": "markdown",
   "metadata": {},
   "source": [
    "### Inter-agreement"
   ]
  },
  {
   "cell_type": "code",
   "execution_count": 229,
   "metadata": {
    "collapsed": true
   },
   "outputs": [],
   "source": [
    "import scipy\n",
    "from scipy.stats import pearsonr\n",
    "from sklearn.metrics import cohen_kappa_score"
   ]
  },
  {
   "cell_type": "code",
   "execution_count": 222,
   "metadata": {
    "collapsed": false
   },
   "outputs": [],
   "source": [
    "scores_arian = [\"/data/milatmp1/jastrzes/l2lwe/eval/1/eval_1_done_arian.csv\", \"/data/milatmp1/jastrzes/l2lwe/eval/2/eval_2_done_arian.csv\"]\n",
    "scores_stan = [\"/data/milatmp1/jastrzes/l2lwe/eval/1/eval_1_done_stan.tsv\", \"/data/milatmp1/jastrzes/l2lwe/eval/2/eval_2_done_stan.csv\"]"
   ]
  },
  {
   "cell_type": "code",
   "execution_count": 223,
   "metadata": {
    "collapsed": false,
    "scrolled": true
   },
   "outputs": [],
   "source": [
    "# Small hacky code to read floats from csv/tsv\n",
    "for S in [scores_arian, scores_stan]:\n",
    "    for id in range(len(S)):\n",
    "        if S[id].endswith(\"tsv\"):\n",
    "            S[id] = pd.read_csv(S[id], sep=\"\\t\")['score'].values\n",
    "        else:\n",
    "            S[id] = pd.read_csv(S[id])['score'].values\n",
    "scores_arian = np.array(scores_arian).reshape(-1,)\n",
    "scores_stan = np.array(scores_stan).reshape(-1,)"
   ]
  },
  {
   "cell_type": "code",
   "execution_count": 230,
   "metadata": {
    "collapsed": false
   },
   "outputs": [
    {
     "name": "stdout",
     "output_type": "stream",
     "text": [
      "(0.8191557554970329, 4.0324523289756378e-98)\n",
      "0.488704955932\n"
     ]
    }
   ],
   "source": [
    "print pearsonr(scores_arian, scores_stan)\n",
    "print cohen_kappa_score(scores_arian, scores_stan)"
   ]
  },
  {
   "cell_type": "markdown",
   "metadata": {},
   "source": [
    "# Bucketed wiki results\n",
    "\n",
    "Code used to compute eval_results.json's: "
   ]
  },
  {
   "cell_type": "code",
   "execution_count": 265,
   "metadata": {
    "collapsed": false
   },
   "outputs": [
    {
     "data": {
      "text/plain": [
       "'\\nfor i in 0 1 2; do; python scripts/evaluate/human_evaluate_triplets_v2.py evaluate /data/milatmp1/jastrzes/l2lwe/eval/arian/7__b0.txt/mapping_7__b0.txt.csv /data/milatmp1/jastrzes/l2lwe/eval/arian/7__b0.txt/eval_7__b0.txt.csv  /data/milatmp1/jastrzes/l2lwe/eval/arian/7__b${.txt/eval_results.json; done\\n'"
      ]
     },
     "execution_count": 265,
     "metadata": {},
     "output_type": "execute_result"
    }
   ],
   "source": [
    "\"\"\"\n",
    "for i in 0 1 2; do; python scripts/evaluate/human_evaluate_triplets_v2.py evaluate /data/milatmp1/jastrzes/l2lwe/eval/arian/7__b0.txt/mapping_7__b0.txt.csv /data/milatmp1/jastrzes/l2lwe/eval/arian/7__b0.txt/eval_7__b0.txt.csv  /data/milatmp1/jastrzes/l2lwe/eval/arian/7__b${.txt/eval_results.json; done\n",
    "\"\"\""
   ]
  },
  {
   "cell_type": "code",
   "execution_count": 275,
   "metadata": {
    "collapsed": true
   },
   "outputs": [],
   "source": [
    "evals = [\"/data/milatmp1/jastrzes/l2lwe/eval/arian/7__b0.txt/eval_results.json\", \n",
    "         \"/data/milatmp1/jastrzes/l2lwe/eval/arian/7__b1.txt/eval_results.json\",\n",
    "        \"/data/milatmp1/jastrzes/l2lwe/eval/arian/7__b2.txt/eval_results.json\"]\n",
    "\n",
    "def get_modelname(name):\n",
    "    return name.split(\"/\")[-3]\n",
    "\n",
    "def get_evalname(name):\n",
    "    return name.split(\"/\")[-2]\n",
    "\n",
    "modelname_to_tablename = {\n",
    "    \"3_01_prototypical_conceptnet_my\": \"Prototypical\",\n",
    "    \"3_01_root_conceptnet_my_2\": \"Factorized\",\n",
    "    \"3_01_root_conceptnet_my\": \"DNN\"\n",
    "}\n",
    "\n",
    "evalname_to_tablename = {\n",
    "    \"7__b0.txt\": \"$[0%, 33%]$\",\n",
    "    \"7__b1.txt\": \"$(33%, 66%]$\",\n",
    "    \"7__b2.txt\": \"$(66%, 100%]$\",\n",
    "}\n"
   ]
  },
  {
   "cell_type": "code",
   "execution_count": 278,
   "metadata": {
    "collapsed": false
   },
   "outputs": [
    {
     "name": "stdout",
     "output_type": "stream",
     "text": [
      "\\begin{tabular}{llll}\n",
      "\\toprule\n",
      "{} & $[0\\\\%, 33\\\\%]$ & $(33\\\\%, 66\\\\%]$ & $(66,\\%, 100\\\\%]$ \\\\\n",
      "\\midrule\n",
      "DNN          &        $2.47$ &         $2.34$ &          $1.41$ \\\\\n",
      "Factorized   &        $2.57$ &         $2.12$ &          $2.24$ \\\\\n",
      "Prototypical &        $2.33$ &         $2.24$ &          $1.63$ \\\\\n",
      "\\bottomrule\n",
      "\\end{tabular}\n",
      "\n"
     ]
    },
    {
     "data": {
      "text/html": [
       "<div>\n",
       "<style>\n",
       "    .dataframe thead tr:only-child th {\n",
       "        text-align: right;\n",
       "    }\n",
       "\n",
       "    .dataframe thead th {\n",
       "        text-align: left;\n",
       "    }\n",
       "\n",
       "    .dataframe tbody tr th {\n",
       "        vertical-align: top;\n",
       "    }\n",
       "</style>\n",
       "<table border=\"1\" class=\"dataframe\">\n",
       "  <thead>\n",
       "    <tr style=\"text-align: right;\">\n",
       "      <th></th>\n",
       "      <th>$[0\\%, 33\\%]$</th>\n",
       "      <th>$(33\\%, 66\\%]$</th>\n",
       "      <th>$(66,%, 100\\%]$</th>\n",
       "    </tr>\n",
       "  </thead>\n",
       "  <tbody>\n",
       "    <tr>\n",
       "      <th>DNN</th>\n",
       "      <td>$2.47$</td>\n",
       "      <td>$2.34$</td>\n",
       "      <td>$1.41$</td>\n",
       "    </tr>\n",
       "    <tr>\n",
       "      <th>Factorized</th>\n",
       "      <td>$2.57$</td>\n",
       "      <td>$2.12$</td>\n",
       "      <td>$2.24$</td>\n",
       "    </tr>\n",
       "    <tr>\n",
       "      <th>Prototypical</th>\n",
       "      <td>$2.33$</td>\n",
       "      <td>$2.24$</td>\n",
       "      <td>$1.63$</td>\n",
       "    </tr>\n",
       "  </tbody>\n",
       "</table>\n",
       "</div>"
      ],
      "text/plain": [
       "             $[0\\%, 33\\%]$ $(33\\%, 66\\%]$ $(66,%, 100\\%]$\n",
       "DNN                 $2.47$         $2.34$          $1.41$\n",
       "Factorized          $2.57$         $2.12$          $2.24$\n",
       "Prototypical        $2.33$         $2.24$          $1.63$"
      ]
     },
     "execution_count": 278,
     "metadata": {},
     "output_type": "execute_result"
    }
   ],
   "source": [
    "\n",
    "# Small script to compute the table\n",
    "# Row is here bucket, column model. Will transpose later\n",
    "D = []\n",
    "D_index = []\n",
    "\n",
    "for E in evals:\n",
    "    row = {}\n",
    "    evalname = get_evalname(E)\n",
    "    \n",
    "    # Assumed keys: \"A\", \"B\" and \"key_to_name\"\n",
    "    R = json.load(open(E))\n",
    "    assert \"0\" in R; assert \"1\" in R; assert \"2\" in R; assert \"key_to_name\" in R\n",
    "    # HACK: Assumption that keys are A or B\n",
    "    for key in ['0', '1', '2']:\n",
    "        modelname = get_modelname(R['key_to_name'][key])\n",
    "        if modelname in modelname_to_tablename:\n",
    "            row[modelname_to_tablename[modelname]] = \"${0:.2f}$\".format(R[key])\n",
    "    \n",
    "    # Populate\n",
    "    D.append(row)\n",
    "    D_index.append(evalname_to_tablename[evalname])\n",
    "\n",
    "D = pd.DataFrame(D, index=D_index).T\n",
    "print D.to_latex().replace(\"\\\\textbackslash\", \"\\\\\").replace(\"\\\\$\", \"$\")\n",
    "D"
   ]
  },
  {
   "cell_type": "markdown",
   "metadata": {},
   "source": [
    "# Error analysis\n",
    "\n",
    "Are results correctable?"
   ]
  }
 ],
 "metadata": {
  "kernelspec": {
   "display_name": "Python 2",
   "language": "python",
   "name": "python2"
  },
  "language_info": {
   "codemirror_mode": {
    "name": "ipython",
    "version": 2
   },
   "file_extension": ".py",
   "mimetype": "text/x-python",
   "name": "python",
   "nbconvert_exporter": "python",
   "pygments_lexer": "ipython2",
   "version": "2.7.13"
  }
 },
 "nbformat": 4,
 "nbformat_minor": 2
}
