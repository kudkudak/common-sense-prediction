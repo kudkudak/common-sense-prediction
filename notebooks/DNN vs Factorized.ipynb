{
 "cells": [
  {
   "cell_type": "code",
   "execution_count": 3,
   "metadata": {},
   "outputs": [
    {
     "ename": "FileNotFoundError",
     "evalue": "[Errno 2] No such file or directory: '/data/lisatmp4/noukhovm/common-sense-results'",
     "output_type": "error",
     "traceback": [
      "\u001b[0;31m---------------------------------------------------------------------------\u001b[0m",
      "\u001b[0;31mFileNotFoundError\u001b[0m                         Traceback (most recent call last)",
      "\u001b[0;32m<ipython-input-3-1ead6cdb69d5>\u001b[0m in \u001b[0;36m<module>\u001b[0;34m()\u001b[0m\n\u001b[1;32m      6\u001b[0m \u001b[0mDATA_DIR\u001b[0m \u001b[0;34m=\u001b[0m \u001b[0;34m'/data/lisatmp4/noukhovm/common-sense-data/'\u001b[0m\u001b[0;34m\u001b[0m\u001b[0m\n\u001b[1;32m      7\u001b[0m \u001b[0mRESULTS_DIR\u001b[0m \u001b[0;34m=\u001b[0m \u001b[0;34m'/data/lisatmp4/noukhovm/common-sense-results'\u001b[0m\u001b[0;34m\u001b[0m\u001b[0m\n\u001b[0;32m----> 8\u001b[0;31m \u001b[0mdnn_dirs\u001b[0m \u001b[0;34m=\u001b[0m \u001b[0;34m[\u001b[0m\u001b[0md\u001b[0m \u001b[0;32mfor\u001b[0m \u001b[0md\u001b[0m \u001b[0;32min\u001b[0m \u001b[0mos\u001b[0m\u001b[0;34m.\u001b[0m\u001b[0mlistdir\u001b[0m\u001b[0;34m(\u001b[0m\u001b[0mRESULTS_DIR\u001b[0m\u001b[0;34m)\u001b[0m \u001b[0;32mif\u001b[0m \u001b[0;34m'dnn_seed'\u001b[0m \u001b[0;32min\u001b[0m \u001b[0md\u001b[0m \u001b[0;34m]\u001b[0m\u001b[0;34m\u001b[0m\u001b[0m\n\u001b[0m\u001b[1;32m      9\u001b[0m \u001b[0mDNN_DIR\u001b[0m \u001b[0;34m=\u001b[0m \u001b[0;34m[\u001b[0m\u001b[0mos\u001b[0m\u001b[0;34m.\u001b[0m\u001b[0mpath\u001b[0m\u001b[0;34m.\u001b[0m\u001b[0mjoin\u001b[0m\u001b[0;34m(\u001b[0m\u001b[0mRESULTS_DIR\u001b[0m\u001b[0;34m,\u001b[0m \u001b[0md\u001b[0m\u001b[0;34m)\u001b[0m \u001b[0;32mfor\u001b[0m \u001b[0md\u001b[0m \u001b[0;32min\u001b[0m \u001b[0mdnn_dirs\u001b[0m\u001b[0;34m]\u001b[0m\u001b[0;34m\u001b[0m\u001b[0m\n\u001b[1;32m     10\u001b[0m \u001b[0mfactorized_dirs\u001b[0m \u001b[0;34m=\u001b[0m \u001b[0;34m[\u001b[0m\u001b[0md\u001b[0m \u001b[0;32mfor\u001b[0m \u001b[0md\u001b[0m \u001b[0;32min\u001b[0m \u001b[0mos\u001b[0m\u001b[0;34m.\u001b[0m\u001b[0mlistdir\u001b[0m\u001b[0;34m(\u001b[0m\u001b[0mRESULTS_DIR\u001b[0m\u001b[0;34m)\u001b[0m \u001b[0;32mif\u001b[0m \u001b[0;34m'factorized_seed'\u001b[0m \u001b[0;32min\u001b[0m \u001b[0md\u001b[0m \u001b[0;34m]\u001b[0m\u001b[0;34m\u001b[0m\u001b[0m\n",
      "\u001b[0;31mFileNotFoundError\u001b[0m: [Errno 2] No such file or directory: '/data/lisatmp4/noukhovm/common-sense-results'"
     ]
    }
   ],
   "source": [
    "import os\n",
    "import numpy as np\n",
    "import pandas as pd\n",
    "import json\n",
    "\n",
    "DATA_DIR = '/data/lisatmp4/noukhovm/common-sense-data/'\n",
    "RESULTS_DIR = '/data/lisatmp4/noukhovm/common-sense-results'\n",
    "dnn_dirs = [d for d in os.listdir(RESULTS_DIR) if 'dnn_seed' in d ]\n",
    "DNN_DIR = [os.path.join(RESULTS_DIR, d) for d in dnn_dirs]\n",
    "factorized_dirs = [d for d in os.listdir(RESULTS_DIR) if 'factorized_seed' in d ]\n",
    "factorized_DIR = [os.path.join(RESULTS_DIR, d) for d in factorized_dirs]"
   ]
  },
  {
   "cell_type": "code",
   "execution_count": 3,
   "metadata": {
    "collapsed": true
   },
   "outputs": [],
   "source": [
    "data = pd.read_csv(os.path.join(DATA_DIR, \"LiACL/conceptnet/test.txt\"), sep=\"\\t\", header=None)\n",
    "data.columns = ['rel', 'head', 'tail', 'score']"
   ]
  },
  {
   "cell_type": "code",
   "execution_count": 4,
   "metadata": {
    "collapsed": true
   },
   "outputs": [],
   "source": [
    "#TODO(mnuke): change to load the different seeds and combine!\n",
    "with open(os.path.join(DNN_DIR[0], 'eval_results.json'), 'r') as f:\n",
    "    dnn_results = json.load(f) \n",
    "with open(os.path.join(FACTORIZED_DIR[0], 'eval_results.json'),'r') as g:\n",
    "    fac_results = json.load(g)"
   ]
  },
  {
   "cell_type": "code",
   "execution_count": 10,
   "metadata": {},
   "outputs": [
    {
     "name": "stdout",
     "output_type": "stream",
     "text": [
      "(2400,)\n",
      "                  rel                  head                tail  score\n",
      "20                IsA                   fly              insect      1\n",
      "33                IsA                  bass                fish      1\n",
      "40          CapableOf               chicken          cross road      1\n",
      "42         AtLocation                  word                book      1\n",
      "45            UsedFor                 water               drink      1\n",
      "61                IsA                   see                tool      1\n",
      "81     ReceivesAction                  book                read      1\n",
      "124               IsA                  rock               music      1\n",
      "129        AtLocation                  bird                 sky      1\n",
      "135        AtLocation             seven day                week      1\n",
      "137               IsA                  rain               water      1\n",
      "149           UsedFor                  book               study      1\n",
      "152         CapableOf                   cat         drink water      1\n",
      "162           UsedFor                 fruit                 eat      1\n",
      "192           UsedFor              computer           play game      1\n",
      "198        AtLocation              airplane                 sky      1\n",
      "210               IsA            mastercard         credit card      1\n",
      "213               IsA              mushroom              fungus      1\n",
      "215         CapableOf                 clock           tell time      1\n",
      "236               IsA              goldfish                carp      1\n",
      "270               IsA                orchid              flower      1\n",
      "278            Causes                   sex               child      1\n",
      "294        AtLocation                  bird                roof      1\n",
      "300         CapableOf                  bomb        destroy city      1\n",
      "318            PartOf                  tire                 car      1\n",
      "325        AtLocation                 human                love      1\n",
      "337         CapableOf                person          catch cold      1\n",
      "345         CapableOf                person        cross street      1\n",
      "350        AtLocation                 human             country      1\n",
      "364        AtLocation               giraffe                 zoo      1\n",
      "...               ...                   ...                 ...    ...\n",
      "2212              IsA                  play    american pastime      0\n",
      "2214           MadeOf                   cup             leather      0\n",
      "2223  HasPrerequisite                 drink     go to bed early      0\n",
      "2238        CapableOf                spider          wear dress      0\n",
      "2245     NotCapableOf            towel rack          hold towel      0\n",
      "2246          UsedFor                 rifle             live in      0\n",
      "2247        CapableOf                lawyer        carry person      0\n",
      "2254        RelatedTo                staple             stapler      0\n",
      "2255       AtLocation           motherboard               purse      0\n",
      "2259          UsedFor               science          university      0\n",
      "2261       AtLocation                  foot                 gun      0\n",
      "2271        CapableOf               trigger                 gun      0\n",
      "2293       AtLocation               jupiter              planet      0\n",
      "2294              IsA                  lake               earth      0\n",
      "2310  HasPrerequisite                  bill          have money      0\n",
      "2328  HasPrerequisite                  pray          kneel down      0\n",
      "2334      HasProperty      usenet newsgroup           different      0\n",
      "2335       AtLocation                 water          your mouth      0\n",
      "2340        CapableOf                  beer  alcoholic beverage      0\n",
      "2343        CapableOf                  fart           bad smell      0\n",
      "2346       AtLocation                person                roof      0\n",
      "2352        CapableOf       take phone call       pick up phone      0\n",
      "2355   ReceivesAction             key chain   keep key together      0\n",
      "2362  HasPrerequisite             have bath     get out of heat      0\n",
      "2376           Causes          strike match      settle lawsuit      0\n",
      "2378        CapableOf              bury cat            dig hole      0\n",
      "2382       AtLocation                beanie            basement      0\n",
      "2390             HasA                person            web foot      0\n",
      "2394      HasSubevent  make patchwork quilt          ask for it      0\n",
      "2396             HasA                 sushi         green leave      0\n",
      "\n",
      "[367 rows x 4 columns]\n",
      "correct dnn not fac  162\n",
      "correct fac not dnn  90\n",
      "correct both 2033\n",
      "correct neither 367\n"
     ]
    }
   ],
   "source": [
    "pd.set_option('display.width', 1000)\n",
    "K = 100\n",
    "target = df['score'].as_matrix()\n",
    "dnn_thr = dnn_results['threshold']\n",
    "fac_thr = fac_results['threshold']\n",
    "dnn_test = np.array(dnn_results['scores_test'])\n",
    "fac_test = np.array(fac_results['scores_test'])\n",
    "df = data.copy()\n",
    "df['dnn'] = dnn_test\n",
    "df['dnn_thr'] = dnn_test - dnn_results['threshold']\n",
    "df['fac'] = fac_test\n",
    "df['fac_thr'] = fac_test - fac_results['threshold']\n",
    "# print(df.iloc[top_k_thr])\n",
    "\n",
    "correct_dnn = (dnn_test > dnn_thr) == target\n",
    "correct_fac = (fac_test > fac_thr) == target\n",
    "dnn_win = np.logical_and(correct_dnn, 1 - correct_fac)\n",
    "fac_win = np.logical_and(1 - correct_dnn, correct_fac)\n",
    "same = np.logical_and(correct_dnn, correct_fac)\n",
    "neither = 1 - same\n",
    "\n",
    "print(neither.shape)\n",
    "print(data.loc[neither.nonzero()])\n",
    "\n",
    "print(\"correct dnn not fac \", np.sum(dnn_win))\n",
    "print(\"correct fac not dnn \", np.sum(fac_win))\n",
    "print(\"correct both\", np.sum(same))\n",
    "print(\"correct neither\", np.sum(neither))"
   ]
  },
  {
   "cell_type": "code",
   "execution_count": null,
   "metadata": {
    "collapsed": true
   },
   "outputs": [],
   "source": [
    "diff_abs = np.abs(dnn_test - fac_test)\n",
    "diff_abs_thr = np.abs(dnn_test - dnn_results['threshold'] - fac_test + fac_results['threshold'])\n",
    "top_k = np.argpartition(diff_abs, -K)[-K:]\n",
    "top_k_thr = np.argpartition(diff_abs_thr, -K)[-K:]"
   ]
  }
 ],
 "metadata": {
  "kernelspec": {
   "display_name": "Python 3",
   "language": "python",
   "name": "python3"
  },
  "language_info": {
   "codemirror_mode": {
    "name": "ipython",
    "version": 3
   },
   "file_extension": ".py",
   "mimetype": "text/x-python",
   "name": "python",
   "nbconvert_exporter": "python",
   "pygments_lexer": "ipython3",
   "version": "3.6.1"
  }
 },
 "nbformat": 4,
 "nbformat_minor": 2
}
